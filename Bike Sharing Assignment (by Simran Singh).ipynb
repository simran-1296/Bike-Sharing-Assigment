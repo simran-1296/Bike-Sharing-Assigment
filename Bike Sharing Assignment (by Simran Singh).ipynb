{
 "cells": [
  {
   "cell_type": "markdown",
   "metadata": {},
   "source": [
    "## Bike Sharing Assignment by Simran Singh"
   ]
  },
  {
   "cell_type": "markdown",
   "metadata": {},
   "source": [
    "### Data Dictionary\n",
    "- instant: record index\n",
    "- dteday : date\n",
    "- season : season (1:spring, 2:summer, 3:fall, 4:winter)\n",
    "- yr : year (0: 2018, 1:2019)\n",
    "- mnth : month ( 1 to 12)\n",
    "- holiday : weather day is a holiday or not (extracted from http://dchr.dc.gov/page/holiday-schedule)\n",
    "- weekday : day of the week\n",
    "- workingday : if day is neither weekend nor holiday is 1, otherwise is 0.\n",
    "+ weathersit : \n",
    "    - 1: Clear, Few clouds, Partly cloudy, Partly cloudy\n",
    "    - 2: Mist + Cloudy, Mist + Broken clouds, Mist + Few clouds, Mist\n",
    "    - 3: Light Snow, Light Rain + Thunderstorm + Scattered clouds, Light Rain + Scattered clouds\n",
    "    - 4: Heavy Rain + Ice Pallets + Thunderstorm + Mist, Snow + Fog\n",
    "- temp : temperature in Celsius\n",
    "- atemp: feeling temperature in Celsius\n",
    "- hum: humidity\n",
    "- windspeed: wind speed\n",
    "- casual: count of casual users\n",
    "- registered: count of registered users\n",
    "- cnt: count of total rental bikes including both casual and registered\n",
    "\n",
    "###### Citation: \n",
    "    [1] Fanaee-T, Hadi, and Gama, Joao, \"Event labeling combining ensemble detectors and background knowledge\", Progress in Artificial Intelligence (2013): pp. 1-15, Springer Berlin Heidelberg, doi:10.1007/s13748-013-0040-3."
   ]
  },
  {
   "cell_type": "code",
   "execution_count": 1,
   "metadata": {},
   "outputs": [],
   "source": [
    "# importing required libraries\n",
    "\n",
    "import numpy as np\n",
    "import pandas as pd\n",
    "import matplotlib.pyplot as plt\n",
    "%matplotlib inline\n",
    "import seaborn as sns\n",
    "\n",
    "import warnings\n",
    "warnings.filterwarnings('ignore')\n",
    "\n",
    "from sklearn.model_selection import train_test_split\n",
    "from sklearn.preprocessing import MinMaxScaler\n",
    "from sklearn.feature_selection import RFE\n",
    "from sklearn.linear_model import LinearRegression\n",
    "from sklearn.metrics import r2_score\n",
    "from sklearn.metrics import mean_squared_error\n",
    "\n",
    "import statsmodels.api as sm\n",
    "from statsmodels.stats.outliers_influence import variance_inflation_factor"
   ]
  },
  {
   "cell_type": "markdown",
   "metadata": {},
   "source": [
    "### Step 1 - Understanding, cleaning & visualising the data for intuitive understanding of the dataset\n",
    "#### Loading and Inspecting the data"
   ]
  },
  {
   "cell_type": "code",
   "execution_count": 2,
   "metadata": {},
   "outputs": [],
   "source": [
    "# reading the data \n",
    "BoomBikes = pd.read_csv(\"day.csv\")"
   ]
  },
  {
   "cell_type": "code",
   "execution_count": 3,
   "metadata": {},
   "outputs": [
    {
     "data": {
      "text/html": [
       "<div>\n",
       "<style scoped>\n",
       "    .dataframe tbody tr th:only-of-type {\n",
       "        vertical-align: middle;\n",
       "    }\n",
       "\n",
       "    .dataframe tbody tr th {\n",
       "        vertical-align: top;\n",
       "    }\n",
       "\n",
       "    .dataframe thead th {\n",
       "        text-align: right;\n",
       "    }\n",
       "</style>\n",
       "<table border=\"1\" class=\"dataframe\">\n",
       "  <thead>\n",
       "    <tr style=\"text-align: right;\">\n",
       "      <th></th>\n",
       "      <th>instant</th>\n",
       "      <th>dteday</th>\n",
       "      <th>season</th>\n",
       "      <th>yr</th>\n",
       "      <th>mnth</th>\n",
       "      <th>holiday</th>\n",
       "      <th>weekday</th>\n",
       "      <th>workingday</th>\n",
       "      <th>weathersit</th>\n",
       "      <th>temp</th>\n",
       "      <th>atemp</th>\n",
       "      <th>hum</th>\n",
       "      <th>windspeed</th>\n",
       "      <th>casual</th>\n",
       "      <th>registered</th>\n",
       "      <th>cnt</th>\n",
       "    </tr>\n",
       "  </thead>\n",
       "  <tbody>\n",
       "    <tr>\n",
       "      <th>0</th>\n",
       "      <td>1</td>\n",
       "      <td>01-01-2018</td>\n",
       "      <td>1</td>\n",
       "      <td>0</td>\n",
       "      <td>1</td>\n",
       "      <td>0</td>\n",
       "      <td>1</td>\n",
       "      <td>1</td>\n",
       "      <td>2</td>\n",
       "      <td>14.110847</td>\n",
       "      <td>18.18125</td>\n",
       "      <td>80.5833</td>\n",
       "      <td>10.749882</td>\n",
       "      <td>331</td>\n",
       "      <td>654</td>\n",
       "      <td>985</td>\n",
       "    </tr>\n",
       "    <tr>\n",
       "      <th>1</th>\n",
       "      <td>2</td>\n",
       "      <td>02-01-2018</td>\n",
       "      <td>1</td>\n",
       "      <td>0</td>\n",
       "      <td>1</td>\n",
       "      <td>0</td>\n",
       "      <td>2</td>\n",
       "      <td>1</td>\n",
       "      <td>2</td>\n",
       "      <td>14.902598</td>\n",
       "      <td>17.68695</td>\n",
       "      <td>69.6087</td>\n",
       "      <td>16.652113</td>\n",
       "      <td>131</td>\n",
       "      <td>670</td>\n",
       "      <td>801</td>\n",
       "    </tr>\n",
       "    <tr>\n",
       "      <th>2</th>\n",
       "      <td>3</td>\n",
       "      <td>03-01-2018</td>\n",
       "      <td>1</td>\n",
       "      <td>0</td>\n",
       "      <td>1</td>\n",
       "      <td>0</td>\n",
       "      <td>3</td>\n",
       "      <td>1</td>\n",
       "      <td>1</td>\n",
       "      <td>8.050924</td>\n",
       "      <td>9.47025</td>\n",
       "      <td>43.7273</td>\n",
       "      <td>16.636703</td>\n",
       "      <td>120</td>\n",
       "      <td>1229</td>\n",
       "      <td>1349</td>\n",
       "    </tr>\n",
       "    <tr>\n",
       "      <th>3</th>\n",
       "      <td>4</td>\n",
       "      <td>04-01-2018</td>\n",
       "      <td>1</td>\n",
       "      <td>0</td>\n",
       "      <td>1</td>\n",
       "      <td>0</td>\n",
       "      <td>4</td>\n",
       "      <td>1</td>\n",
       "      <td>1</td>\n",
       "      <td>8.200000</td>\n",
       "      <td>10.60610</td>\n",
       "      <td>59.0435</td>\n",
       "      <td>10.739832</td>\n",
       "      <td>108</td>\n",
       "      <td>1454</td>\n",
       "      <td>1562</td>\n",
       "    </tr>\n",
       "    <tr>\n",
       "      <th>4</th>\n",
       "      <td>5</td>\n",
       "      <td>05-01-2018</td>\n",
       "      <td>1</td>\n",
       "      <td>0</td>\n",
       "      <td>1</td>\n",
       "      <td>0</td>\n",
       "      <td>5</td>\n",
       "      <td>1</td>\n",
       "      <td>1</td>\n",
       "      <td>9.305237</td>\n",
       "      <td>11.46350</td>\n",
       "      <td>43.6957</td>\n",
       "      <td>12.522300</td>\n",
       "      <td>82</td>\n",
       "      <td>1518</td>\n",
       "      <td>1600</td>\n",
       "    </tr>\n",
       "  </tbody>\n",
       "</table>\n",
       "</div>"
      ],
      "text/plain": [
       "   instant      dteday  season  yr  mnth  holiday  weekday  workingday  \\\n",
       "0        1  01-01-2018       1   0     1        0        1           1   \n",
       "1        2  02-01-2018       1   0     1        0        2           1   \n",
       "2        3  03-01-2018       1   0     1        0        3           1   \n",
       "3        4  04-01-2018       1   0     1        0        4           1   \n",
       "4        5  05-01-2018       1   0     1        0        5           1   \n",
       "\n",
       "   weathersit       temp     atemp      hum  windspeed  casual  registered  \\\n",
       "0           2  14.110847  18.18125  80.5833  10.749882     331         654   \n",
       "1           2  14.902598  17.68695  69.6087  16.652113     131         670   \n",
       "2           1   8.050924   9.47025  43.7273  16.636703     120        1229   \n",
       "3           1   8.200000  10.60610  59.0435  10.739832     108        1454   \n",
       "4           1   9.305237  11.46350  43.6957  12.522300      82        1518   \n",
       "\n",
       "    cnt  \n",
       "0   985  \n",
       "1   801  \n",
       "2  1349  \n",
       "3  1562  \n",
       "4  1600  "
      ]
     },
     "execution_count": 3,
     "metadata": {},
     "output_type": "execute_result"
    }
   ],
   "source": [
    "# viewing the data\n",
    "BoomBikes.head()"
   ]
  },
  {
   "cell_type": "code",
   "execution_count": 4,
   "metadata": {},
   "outputs": [
    {
     "data": {
      "text/plain": [
       "(730, 16)"
      ]
     },
     "execution_count": 4,
     "metadata": {},
     "output_type": "execute_result"
    }
   ],
   "source": [
    "# checking the rows and columns of the data\n",
    "BoomBikes.shape"
   ]
  },
  {
   "cell_type": "code",
   "execution_count": 5,
   "metadata": {},
   "outputs": [
    {
     "data": {
      "text/plain": [
       "instant       0\n",
       "dteday        0\n",
       "season        0\n",
       "yr            0\n",
       "mnth          0\n",
       "holiday       0\n",
       "weekday       0\n",
       "workingday    0\n",
       "weathersit    0\n",
       "temp          0\n",
       "atemp         0\n",
       "hum           0\n",
       "windspeed     0\n",
       "casual        0\n",
       "registered    0\n",
       "cnt           0\n",
       "dtype: int64"
      ]
     },
     "execution_count": 5,
     "metadata": {},
     "output_type": "execute_result"
    }
   ],
   "source": [
    "# making sure there are no null values\n",
    "BoomBikes.isnull().sum()"
   ]
  },
  {
   "cell_type": "code",
   "execution_count": 6,
   "metadata": {},
   "outputs": [
    {
     "data": {
      "text/html": [
       "<div>\n",
       "<style scoped>\n",
       "    .dataframe tbody tr th:only-of-type {\n",
       "        vertical-align: middle;\n",
       "    }\n",
       "\n",
       "    .dataframe tbody tr th {\n",
       "        vertical-align: top;\n",
       "    }\n",
       "\n",
       "    .dataframe thead th {\n",
       "        text-align: right;\n",
       "    }\n",
       "</style>\n",
       "<table border=\"1\" class=\"dataframe\">\n",
       "  <thead>\n",
       "    <tr style=\"text-align: right;\">\n",
       "      <th></th>\n",
       "      <th>instant</th>\n",
       "      <th>season</th>\n",
       "      <th>yr</th>\n",
       "      <th>mnth</th>\n",
       "      <th>holiday</th>\n",
       "      <th>weekday</th>\n",
       "      <th>workingday</th>\n",
       "      <th>weathersit</th>\n",
       "      <th>temp</th>\n",
       "      <th>atemp</th>\n",
       "      <th>hum</th>\n",
       "      <th>windspeed</th>\n",
       "      <th>casual</th>\n",
       "      <th>registered</th>\n",
       "      <th>cnt</th>\n",
       "    </tr>\n",
       "  </thead>\n",
       "  <tbody>\n",
       "    <tr>\n",
       "      <th>count</th>\n",
       "      <td>730.00</td>\n",
       "      <td>730.00</td>\n",
       "      <td>730.0</td>\n",
       "      <td>730.00</td>\n",
       "      <td>730.00</td>\n",
       "      <td>730.0</td>\n",
       "      <td>730.00</td>\n",
       "      <td>730.00</td>\n",
       "      <td>730.00</td>\n",
       "      <td>730.00</td>\n",
       "      <td>730.00</td>\n",
       "      <td>730.00</td>\n",
       "      <td>730.00</td>\n",
       "      <td>730.00</td>\n",
       "      <td>730.00</td>\n",
       "    </tr>\n",
       "    <tr>\n",
       "      <th>mean</th>\n",
       "      <td>365.50</td>\n",
       "      <td>2.50</td>\n",
       "      <td>0.5</td>\n",
       "      <td>6.53</td>\n",
       "      <td>0.03</td>\n",
       "      <td>3.0</td>\n",
       "      <td>0.69</td>\n",
       "      <td>1.39</td>\n",
       "      <td>20.32</td>\n",
       "      <td>23.73</td>\n",
       "      <td>62.77</td>\n",
       "      <td>12.76</td>\n",
       "      <td>849.25</td>\n",
       "      <td>3658.76</td>\n",
       "      <td>4508.01</td>\n",
       "    </tr>\n",
       "    <tr>\n",
       "      <th>std</th>\n",
       "      <td>210.88</td>\n",
       "      <td>1.11</td>\n",
       "      <td>0.5</td>\n",
       "      <td>3.45</td>\n",
       "      <td>0.17</td>\n",
       "      <td>2.0</td>\n",
       "      <td>0.46</td>\n",
       "      <td>0.54</td>\n",
       "      <td>7.51</td>\n",
       "      <td>8.15</td>\n",
       "      <td>14.24</td>\n",
       "      <td>5.20</td>\n",
       "      <td>686.48</td>\n",
       "      <td>1559.76</td>\n",
       "      <td>1936.01</td>\n",
       "    </tr>\n",
       "    <tr>\n",
       "      <th>min</th>\n",
       "      <td>1.00</td>\n",
       "      <td>1.00</td>\n",
       "      <td>0.0</td>\n",
       "      <td>1.00</td>\n",
       "      <td>0.00</td>\n",
       "      <td>0.0</td>\n",
       "      <td>0.00</td>\n",
       "      <td>1.00</td>\n",
       "      <td>2.42</td>\n",
       "      <td>3.95</td>\n",
       "      <td>0.00</td>\n",
       "      <td>1.50</td>\n",
       "      <td>2.00</td>\n",
       "      <td>20.00</td>\n",
       "      <td>22.00</td>\n",
       "    </tr>\n",
       "    <tr>\n",
       "      <th>25%</th>\n",
       "      <td>183.25</td>\n",
       "      <td>2.00</td>\n",
       "      <td>0.0</td>\n",
       "      <td>4.00</td>\n",
       "      <td>0.00</td>\n",
       "      <td>1.0</td>\n",
       "      <td>0.00</td>\n",
       "      <td>1.00</td>\n",
       "      <td>13.81</td>\n",
       "      <td>16.89</td>\n",
       "      <td>52.00</td>\n",
       "      <td>9.04</td>\n",
       "      <td>316.25</td>\n",
       "      <td>2502.25</td>\n",
       "      <td>3169.75</td>\n",
       "    </tr>\n",
       "    <tr>\n",
       "      <th>50%</th>\n",
       "      <td>365.50</td>\n",
       "      <td>3.00</td>\n",
       "      <td>0.5</td>\n",
       "      <td>7.00</td>\n",
       "      <td>0.00</td>\n",
       "      <td>3.0</td>\n",
       "      <td>1.00</td>\n",
       "      <td>1.00</td>\n",
       "      <td>20.47</td>\n",
       "      <td>24.37</td>\n",
       "      <td>62.62</td>\n",
       "      <td>12.13</td>\n",
       "      <td>717.00</td>\n",
       "      <td>3664.50</td>\n",
       "      <td>4548.50</td>\n",
       "    </tr>\n",
       "    <tr>\n",
       "      <th>75%</th>\n",
       "      <td>547.75</td>\n",
       "      <td>3.00</td>\n",
       "      <td>1.0</td>\n",
       "      <td>10.00</td>\n",
       "      <td>0.00</td>\n",
       "      <td>5.0</td>\n",
       "      <td>1.00</td>\n",
       "      <td>2.00</td>\n",
       "      <td>26.88</td>\n",
       "      <td>30.45</td>\n",
       "      <td>72.99</td>\n",
       "      <td>15.63</td>\n",
       "      <td>1096.50</td>\n",
       "      <td>4783.25</td>\n",
       "      <td>5966.00</td>\n",
       "    </tr>\n",
       "    <tr>\n",
       "      <th>max</th>\n",
       "      <td>730.00</td>\n",
       "      <td>4.00</td>\n",
       "      <td>1.0</td>\n",
       "      <td>12.00</td>\n",
       "      <td>1.00</td>\n",
       "      <td>6.0</td>\n",
       "      <td>1.00</td>\n",
       "      <td>3.00</td>\n",
       "      <td>35.33</td>\n",
       "      <td>42.04</td>\n",
       "      <td>97.25</td>\n",
       "      <td>34.00</td>\n",
       "      <td>3410.00</td>\n",
       "      <td>6946.00</td>\n",
       "      <td>8714.00</td>\n",
       "    </tr>\n",
       "  </tbody>\n",
       "</table>\n",
       "</div>"
      ],
      "text/plain": [
       "       instant  season     yr    mnth  holiday  weekday  workingday  \\\n",
       "count   730.00  730.00  730.0  730.00   730.00    730.0      730.00   \n",
       "mean    365.50    2.50    0.5    6.53     0.03      3.0        0.69   \n",
       "std     210.88    1.11    0.5    3.45     0.17      2.0        0.46   \n",
       "min       1.00    1.00    0.0    1.00     0.00      0.0        0.00   \n",
       "25%     183.25    2.00    0.0    4.00     0.00      1.0        0.00   \n",
       "50%     365.50    3.00    0.5    7.00     0.00      3.0        1.00   \n",
       "75%     547.75    3.00    1.0   10.00     0.00      5.0        1.00   \n",
       "max     730.00    4.00    1.0   12.00     1.00      6.0        1.00   \n",
       "\n",
       "       weathersit    temp   atemp     hum  windspeed   casual  registered  \\\n",
       "count      730.00  730.00  730.00  730.00     730.00   730.00      730.00   \n",
       "mean         1.39   20.32   23.73   62.77      12.76   849.25     3658.76   \n",
       "std          0.54    7.51    8.15   14.24       5.20   686.48     1559.76   \n",
       "min          1.00    2.42    3.95    0.00       1.50     2.00       20.00   \n",
       "25%          1.00   13.81   16.89   52.00       9.04   316.25     2502.25   \n",
       "50%          1.00   20.47   24.37   62.62      12.13   717.00     3664.50   \n",
       "75%          2.00   26.88   30.45   72.99      15.63  1096.50     4783.25   \n",
       "max          3.00   35.33   42.04   97.25      34.00  3410.00     6946.00   \n",
       "\n",
       "           cnt  \n",
       "count   730.00  \n",
       "mean   4508.01  \n",
       "std    1936.01  \n",
       "min      22.00  \n",
       "25%    3169.75  \n",
       "50%    4548.50  \n",
       "75%    5966.00  \n",
       "max    8714.00  "
      ]
     },
     "execution_count": 6,
     "metadata": {},
     "output_type": "execute_result"
    }
   ],
   "source": [
    "# viewing numerical statistics of the data\n",
    "BoomBikes.describe().round(2)"
   ]
  },
  {
   "cell_type": "code",
   "execution_count": 7,
   "metadata": {},
   "outputs": [
    {
     "name": "stdout",
     "output_type": "stream",
     "text": [
      "<class 'pandas.core.frame.DataFrame'>\n",
      "RangeIndex: 730 entries, 0 to 729\n",
      "Data columns (total 16 columns):\n",
      " #   Column      Non-Null Count  Dtype  \n",
      "---  ------      --------------  -----  \n",
      " 0   instant     730 non-null    int64  \n",
      " 1   dteday      730 non-null    object \n",
      " 2   season      730 non-null    int64  \n",
      " 3   yr          730 non-null    int64  \n",
      " 4   mnth        730 non-null    int64  \n",
      " 5   holiday     730 non-null    int64  \n",
      " 6   weekday     730 non-null    int64  \n",
      " 7   workingday  730 non-null    int64  \n",
      " 8   weathersit  730 non-null    int64  \n",
      " 9   temp        730 non-null    float64\n",
      " 10  atemp       730 non-null    float64\n",
      " 11  hum         730 non-null    float64\n",
      " 12  windspeed   730 non-null    float64\n",
      " 13  casual      730 non-null    int64  \n",
      " 14  registered  730 non-null    int64  \n",
      " 15  cnt         730 non-null    int64  \n",
      "dtypes: float64(4), int64(11), object(1)\n",
      "memory usage: 91.4+ KB\n"
     ]
    }
   ],
   "source": [
    "# checking the datatypes of the columns\n",
    "BoomBikes.info()"
   ]
  },
  {
   "cell_type": "markdown",
   "metadata": {},
   "source": [
    "#### Data Cleaning and Manipulation"
   ]
  },
  {
   "cell_type": "code",
   "execution_count": 8,
   "metadata": {},
   "outputs": [],
   "source": [
    "# \"instant\" is just an index/serial no. for the record; it has no importance in our model\n",
    "# \"dteday\" isnt needed because we have year and month columns already present\n",
    "# \"casual\" + \"registered\" = \"cnt\"; so we dont need to have these two columns since we already have count\n",
    "\n",
    "BoomBikes.drop([\"instant\", \"dteday\", \"registered\", \"casual\"], axis = 1, inplace = True)"
   ]
  },
  {
   "cell_type": "code",
   "execution_count": 9,
   "metadata": {},
   "outputs": [
    {
     "name": "stdout",
     "output_type": "stream",
     "text": [
      "<class 'pandas.core.frame.DataFrame'>\n",
      "RangeIndex: 730 entries, 0 to 729\n",
      "Data columns (total 12 columns):\n",
      " #   Column      Non-Null Count  Dtype  \n",
      "---  ------      --------------  -----  \n",
      " 0   season      730 non-null    int64  \n",
      " 1   yr          730 non-null    int64  \n",
      " 2   mnth        730 non-null    int64  \n",
      " 3   holiday     730 non-null    int64  \n",
      " 4   weekday     730 non-null    int64  \n",
      " 5   workingday  730 non-null    int64  \n",
      " 6   weathersit  730 non-null    int64  \n",
      " 7   temp        730 non-null    float64\n",
      " 8   atemp       730 non-null    float64\n",
      " 9   hum         730 non-null    float64\n",
      " 10  windspeed   730 non-null    float64\n",
      " 11  cnt         730 non-null    int64  \n",
      "dtypes: float64(4), int64(8)\n",
      "memory usage: 68.6 KB\n"
     ]
    }
   ],
   "source": [
    "# viewing the info of the data again, to check the changes\n",
    "BoomBikes.info()"
   ]
  },
  {
   "cell_type": "code",
   "execution_count": 10,
   "metadata": {},
   "outputs": [],
   "source": [
    "# changing the values of the season column from numerical to categorical using the replace function\n",
    "BoomBikes[\"season\"].replace({1:\"spring\", 2:\"summer\", 3:\"fall\", 4:\"winter\"}, inplace = True)"
   ]
  },
  {
   "cell_type": "code",
   "execution_count": 11,
   "metadata": {},
   "outputs": [
    {
     "data": {
      "text/plain": [
       "fall      188\n",
       "summer    184\n",
       "spring    180\n",
       "winter    178\n",
       "Name: season, dtype: int64"
      ]
     },
     "execution_count": 11,
     "metadata": {},
     "output_type": "execute_result"
    }
   ],
   "source": [
    "# making sure changes have taken place\n",
    "BoomBikes[\"season\"].value_counts()"
   ]
  },
  {
   "cell_type": "code",
   "execution_count": 12,
   "metadata": {},
   "outputs": [],
   "source": [
    "# changing the values of the month column from numerical to categorical using the replace function\n",
    "BoomBikes[\"mnth\"].replace({1:\"jan\", 2:\"feb\", 3:\"mar\", 4:\"apr\", 5:\"may\", 6:\"jun\", 7:\"jul\", 8:\"aug\", 9:\"sep\", 10:\"oct\",\n",
    "                          11:\"nov\", 12:\"dec\"}, inplace = True)"
   ]
  },
  {
   "cell_type": "code",
   "execution_count": 13,
   "metadata": {},
   "outputs": [
    {
     "data": {
      "text/plain": [
       "aug    62\n",
       "may    62\n",
       "jul    62\n",
       "dec    62\n",
       "mar    62\n",
       "jan    62\n",
       "oct    62\n",
       "apr    60\n",
       "sep    60\n",
       "jun    60\n",
       "nov    60\n",
       "feb    56\n",
       "Name: mnth, dtype: int64"
      ]
     },
     "execution_count": 13,
     "metadata": {},
     "output_type": "execute_result"
    }
   ],
   "source": [
    "# making sure changes have taken place\n",
    "BoomBikes[\"mnth\"].value_counts()"
   ]
  },
  {
   "cell_type": "code",
   "execution_count": 14,
   "metadata": {},
   "outputs": [],
   "source": [
    "# changing the values of the weekday column from numerical to categorical using the replace function\n",
    "BoomBikes[\"weekday\"].replace({0:\"sun\", 1:\"mon\", 2:\"tue\", 3:\"wed\", 4:\"thu\", 5:\"fri\", 6:\"sat\"}, inplace = True)"
   ]
  },
  {
   "cell_type": "code",
   "execution_count": 15,
   "metadata": {},
   "outputs": [
    {
     "data": {
      "text/plain": [
       "tue    105\n",
       "mon    105\n",
       "sun    104\n",
       "sat    104\n",
       "thu    104\n",
       "fri    104\n",
       "wed    104\n",
       "Name: weekday, dtype: int64"
      ]
     },
     "execution_count": 15,
     "metadata": {},
     "output_type": "execute_result"
    }
   ],
   "source": [
    "# making sure changes have taken place\n",
    "BoomBikes[\"weekday\"].value_counts()"
   ]
  },
  {
   "cell_type": "code",
   "execution_count": 16,
   "metadata": {},
   "outputs": [],
   "source": [
    "# changing the values of the weather column from numerical to categorical using the replace function\n",
    "BoomBikes[\"weathersit\"].replace({1:\"clear\", 2:\"misty/cloudy\", 3:\"light rain/snow\", 4:\"heavy rain/snow\"}, \n",
    "                                inplace = True)"
   ]
  },
  {
   "cell_type": "code",
   "execution_count": 17,
   "metadata": {},
   "outputs": [
    {
     "data": {
      "text/plain": [
       "clear              463\n",
       "misty/cloudy       246\n",
       "light rain/snow     21\n",
       "Name: weathersit, dtype: int64"
      ]
     },
     "execution_count": 17,
     "metadata": {},
     "output_type": "execute_result"
    }
   ],
   "source": [
    "# making sure changes have taken place\n",
    "BoomBikes[\"weathersit\"].value_counts()"
   ]
  },
  {
   "cell_type": "code",
   "execution_count": 18,
   "metadata": {},
   "outputs": [],
   "source": [
    "# changing the datatypes of the above columns to categorical using the astype function\n",
    "BoomBikes = BoomBikes.astype({\"season\":\"category\", \"mnth\":\"category\", \"weekday\":\"category\", \n",
    "                              \"weathersit\":\"category\"})"
   ]
  },
  {
   "cell_type": "code",
   "execution_count": 19,
   "metadata": {},
   "outputs": [
    {
     "name": "stdout",
     "output_type": "stream",
     "text": [
      "<class 'pandas.core.frame.DataFrame'>\n",
      "RangeIndex: 730 entries, 0 to 729\n",
      "Data columns (total 12 columns):\n",
      " #   Column      Non-Null Count  Dtype   \n",
      "---  ------      --------------  -----   \n",
      " 0   season      730 non-null    category\n",
      " 1   yr          730 non-null    int64   \n",
      " 2   mnth        730 non-null    category\n",
      " 3   holiday     730 non-null    int64   \n",
      " 4   weekday     730 non-null    category\n",
      " 5   workingday  730 non-null    int64   \n",
      " 6   weathersit  730 non-null    category\n",
      " 7   temp        730 non-null    float64 \n",
      " 8   atemp       730 non-null    float64 \n",
      " 9   hum         730 non-null    float64 \n",
      " 10  windspeed   730 non-null    float64 \n",
      " 11  cnt         730 non-null    int64   \n",
      "dtypes: category(4), float64(4), int64(4)\n",
      "memory usage: 49.7 KB\n"
     ]
    }
   ],
   "source": [
    "# making sure datatypes have been changed\n",
    "BoomBikes.info()"
   ]
  },
  {
   "cell_type": "markdown",
   "metadata": {},
   "source": [
    "#### Visualizing the data"
   ]
  },
  {
   "cell_type": "code",
   "execution_count": 20,
   "metadata": {},
   "outputs": [
    {
     "data": {
      "text/html": [
       "<div>\n",
       "<style scoped>\n",
       "    .dataframe tbody tr th:only-of-type {\n",
       "        vertical-align: middle;\n",
       "    }\n",
       "\n",
       "    .dataframe tbody tr th {\n",
       "        vertical-align: top;\n",
       "    }\n",
       "\n",
       "    .dataframe thead th {\n",
       "        text-align: right;\n",
       "    }\n",
       "</style>\n",
       "<table border=\"1\" class=\"dataframe\">\n",
       "  <thead>\n",
       "    <tr style=\"text-align: right;\">\n",
       "      <th></th>\n",
       "      <th>season</th>\n",
       "      <th>yr</th>\n",
       "      <th>mnth</th>\n",
       "      <th>holiday</th>\n",
       "      <th>weekday</th>\n",
       "      <th>workingday</th>\n",
       "      <th>weathersit</th>\n",
       "      <th>temp</th>\n",
       "      <th>atemp</th>\n",
       "      <th>hum</th>\n",
       "      <th>windspeed</th>\n",
       "      <th>cnt</th>\n",
       "    </tr>\n",
       "  </thead>\n",
       "  <tbody>\n",
       "    <tr>\n",
       "      <th>0</th>\n",
       "      <td>spring</td>\n",
       "      <td>0</td>\n",
       "      <td>jan</td>\n",
       "      <td>0</td>\n",
       "      <td>mon</td>\n",
       "      <td>1</td>\n",
       "      <td>misty/cloudy</td>\n",
       "      <td>14.110847</td>\n",
       "      <td>18.18125</td>\n",
       "      <td>80.5833</td>\n",
       "      <td>10.749882</td>\n",
       "      <td>985</td>\n",
       "    </tr>\n",
       "    <tr>\n",
       "      <th>1</th>\n",
       "      <td>spring</td>\n",
       "      <td>0</td>\n",
       "      <td>jan</td>\n",
       "      <td>0</td>\n",
       "      <td>tue</td>\n",
       "      <td>1</td>\n",
       "      <td>misty/cloudy</td>\n",
       "      <td>14.902598</td>\n",
       "      <td>17.68695</td>\n",
       "      <td>69.6087</td>\n",
       "      <td>16.652113</td>\n",
       "      <td>801</td>\n",
       "    </tr>\n",
       "    <tr>\n",
       "      <th>2</th>\n",
       "      <td>spring</td>\n",
       "      <td>0</td>\n",
       "      <td>jan</td>\n",
       "      <td>0</td>\n",
       "      <td>wed</td>\n",
       "      <td>1</td>\n",
       "      <td>clear</td>\n",
       "      <td>8.050924</td>\n",
       "      <td>9.47025</td>\n",
       "      <td>43.7273</td>\n",
       "      <td>16.636703</td>\n",
       "      <td>1349</td>\n",
       "    </tr>\n",
       "    <tr>\n",
       "      <th>3</th>\n",
       "      <td>spring</td>\n",
       "      <td>0</td>\n",
       "      <td>jan</td>\n",
       "      <td>0</td>\n",
       "      <td>thu</td>\n",
       "      <td>1</td>\n",
       "      <td>clear</td>\n",
       "      <td>8.200000</td>\n",
       "      <td>10.60610</td>\n",
       "      <td>59.0435</td>\n",
       "      <td>10.739832</td>\n",
       "      <td>1562</td>\n",
       "    </tr>\n",
       "    <tr>\n",
       "      <th>4</th>\n",
       "      <td>spring</td>\n",
       "      <td>0</td>\n",
       "      <td>jan</td>\n",
       "      <td>0</td>\n",
       "      <td>fri</td>\n",
       "      <td>1</td>\n",
       "      <td>clear</td>\n",
       "      <td>9.305237</td>\n",
       "      <td>11.46350</td>\n",
       "      <td>43.6957</td>\n",
       "      <td>12.522300</td>\n",
       "      <td>1600</td>\n",
       "    </tr>\n",
       "  </tbody>\n",
       "</table>\n",
       "</div>"
      ],
      "text/plain": [
       "   season  yr mnth  holiday weekday  workingday    weathersit       temp  \\\n",
       "0  spring   0  jan        0     mon           1  misty/cloudy  14.110847   \n",
       "1  spring   0  jan        0     tue           1  misty/cloudy  14.902598   \n",
       "2  spring   0  jan        0     wed           1         clear   8.050924   \n",
       "3  spring   0  jan        0     thu           1         clear   8.200000   \n",
       "4  spring   0  jan        0     fri           1         clear   9.305237   \n",
       "\n",
       "      atemp      hum  windspeed   cnt  \n",
       "0  18.18125  80.5833  10.749882   985  \n",
       "1  17.68695  69.6087  16.652113   801  \n",
       "2   9.47025  43.7273  16.636703  1349  \n",
       "3  10.60610  59.0435  10.739832  1562  \n",
       "4  11.46350  43.6957  12.522300  1600  "
      ]
     },
     "execution_count": 20,
     "metadata": {},
     "output_type": "execute_result"
    }
   ],
   "source": [
    "# viewing the data once again\n",
    "BoomBikes.head()"
   ]
  },
  {
   "cell_type": "code",
   "execution_count": 21,
   "metadata": {},
   "outputs": [
    {
     "data": {
      "image/png": "[encoded data removed]",
      "text/plain": [
       "<Figure size 1080x720 with 2 Axes>"
      ]
     },
     "metadata": {
      "needs_background": "light"
     },
     "output_type": "display_data"
    }
   ],
   "source": [
    "# checking correlation among variables using a heatmap\n",
    "plt.figure(figsize = (15,10))\n",
    "sns.heatmap(BoomBikes.corr(), annot = True, cmap = \"Blues\")\n",
    "plt.show()"
   ]
  },
  {
   "cell_type": "markdown",
   "metadata": {},
   "source": [
    "#### Decision to drop 'atemp' due to extremely high colliniearity with another perdictor variable 'temp'"
   ]
  },
  {
   "cell_type": "code",
   "execution_count": 22,
   "metadata": {},
   "outputs": [],
   "source": [
    "# we can spot extremely high multicollinearity of 0.99 between 'temp' and 'atemp', we should drop one of the two\n",
    "# atemp tells us the tempterature that it is 'feeling like'\n",
    "# In this context, information about 'atemp' cannot be used by the business practically so I have decided to drop \n",
    "# 'atemp'\n",
    "\n",
    "BoomBikes.drop(\"atemp\", axis = 1, inplace = True)"
   ]
  },
  {
   "cell_type": "code",
   "execution_count": 23,
   "metadata": {},
   "outputs": [
    {
     "data": {
      "text/plain": [
       "Index(['season', 'yr', 'mnth', 'holiday', 'weekday', 'workingday',\n",
       "       'weathersit', 'temp', 'hum', 'windspeed', 'cnt'],\n",
       "      dtype='object')"
      ]
     },
     "execution_count": 23,
     "metadata": {},
     "output_type": "execute_result"
    }
   ],
   "source": [
    "# revised list of columns in the dataframe\n",
    "\n",
    "BoomBikes.columns"
   ]
  },
  {
   "cell_type": "code",
   "execution_count": 24,
   "metadata": {},
   "outputs": [
    {
     "data": {
      "image/png": "[encoded data removed]",
      "text/plain": [
       "<Figure size 540x180 with 3 Axes>"
      ]
     },
     "metadata": {
      "needs_background": "light"
     },
     "output_type": "display_data"
    }
   ],
   "source": [
    "# pairplot of continuous columns, in order to get an instinct of the data\n",
    "\n",
    "sns.pairplot(BoomBikes, x_vars=['temp', 'hum', 'windspeed'], y_vars='cnt', \n",
    "             kind='scatter', diag_kind = None)\n",
    "plt.title(\"Bi-variate analysis of continuous independant variables \\n\")\n",
    "plt.show()"
   ]
  },
  {
   "cell_type": "code",
   "execution_count": 25,
   "metadata": {},
   "outputs": [
    {
     "data": {
      "image/png": "[encoded data removed]",
      "text/plain": [
       "<Figure size 1440x1152 with 7 Axes>"
      ]
     },
     "metadata": {
      "needs_background": "light"
     },
     "output_type": "display_data"
    }
   ],
   "source": [
    "# subplot of categorical columns, in order to get an instinct of the data\n",
    "\n",
    "plt.figure(figsize=(20, 16))\n",
    "plt.title(\"Bi-Variate Analysis of categorical independant variables \\n\")\n",
    "\n",
    "plt.subplot(3,3,1)\n",
    "sns.boxplot(x = 'season', y = 'cnt', data = BoomBikes)\n",
    "\n",
    "plt.subplot(3,3,2)\n",
    "sns.boxplot(x = 'yr', y = 'cnt', data = BoomBikes)\n",
    "\n",
    "plt.subplot(3,3,3)\n",
    "sns.boxplot(x = 'mnth', y = 'cnt', data = BoomBikes)\n",
    "\n",
    "plt.subplot(3,3,4)\n",
    "sns.boxplot(x = 'weathersit', y = 'cnt', data = BoomBikes)\n",
    "\n",
    "plt.subplot(3,3,5)\n",
    "sns.boxplot(x = 'holiday', y = 'cnt', data = BoomBikes)\n",
    "\n",
    "plt.subplot(3,3,6)\n",
    "sns.boxplot(x = 'weekday', y = 'cnt', data = BoomBikes)\n",
    "\n",
    "plt.subplot(3,3,7)\n",
    "sns.boxplot(x = 'workingday', y = 'cnt', data = BoomBikes)\n",
    "plt.show()"
   ]
  },
  {
   "cell_type": "code",
   "execution_count": 26,
   "metadata": {},
   "outputs": [
    {
     "data": {
      "text/html": [
       "<div>\n",
       "<style scoped>\n",
       "    .dataframe tbody tr th:only-of-type {\n",
       "        vertical-align: middle;\n",
       "    }\n",
       "\n",
       "    .dataframe tbody tr th {\n",
       "        vertical-align: top;\n",
       "    }\n",
       "\n",
       "    .dataframe thead th {\n",
       "        text-align: right;\n",
       "    }\n",
       "</style>\n",
       "<table border=\"1\" class=\"dataframe\">\n",
       "  <thead>\n",
       "    <tr style=\"text-align: right;\">\n",
       "      <th></th>\n",
       "      <th>yr</th>\n",
       "      <th>holiday</th>\n",
       "      <th>workingday</th>\n",
       "      <th>temp</th>\n",
       "      <th>hum</th>\n",
       "      <th>windspeed</th>\n",
       "      <th>cnt</th>\n",
       "    </tr>\n",
       "  </thead>\n",
       "  <tbody>\n",
       "    <tr>\n",
       "      <th>yr</th>\n",
       "      <td>1.000000</td>\n",
       "      <td>0.008195</td>\n",
       "      <td>-0.011852</td>\n",
       "      <td>0.048789</td>\n",
       "      <td>-0.112547</td>\n",
       "      <td>-0.011624</td>\n",
       "      <td>0.569728</td>\n",
       "    </tr>\n",
       "    <tr>\n",
       "      <th>holiday</th>\n",
       "      <td>0.008195</td>\n",
       "      <td>1.000000</td>\n",
       "      <td>-0.257009</td>\n",
       "      <td>-0.028764</td>\n",
       "      <td>-0.015662</td>\n",
       "      <td>0.006257</td>\n",
       "      <td>-0.068764</td>\n",
       "    </tr>\n",
       "    <tr>\n",
       "      <th>workingday</th>\n",
       "      <td>-0.011852</td>\n",
       "      <td>-0.257009</td>\n",
       "      <td>1.000000</td>\n",
       "      <td>0.002044</td>\n",
       "      <td>0.053770</td>\n",
       "      <td>-0.002453</td>\n",
       "      <td>-0.027640</td>\n",
       "    </tr>\n",
       "    <tr>\n",
       "      <th>temp</th>\n",
       "      <td>0.048789</td>\n",
       "      <td>-0.028764</td>\n",
       "      <td>0.002044</td>\n",
       "      <td>1.000000</td>\n",
       "      <td>0.128565</td>\n",
       "      <td>-0.158186</td>\n",
       "      <td>0.627044</td>\n",
       "    </tr>\n",
       "    <tr>\n",
       "      <th>hum</th>\n",
       "      <td>-0.112547</td>\n",
       "      <td>-0.015662</td>\n",
       "      <td>0.053770</td>\n",
       "      <td>0.128565</td>\n",
       "      <td>1.000000</td>\n",
       "      <td>-0.248506</td>\n",
       "      <td>-0.098543</td>\n",
       "    </tr>\n",
       "    <tr>\n",
       "      <th>windspeed</th>\n",
       "      <td>-0.011624</td>\n",
       "      <td>0.006257</td>\n",
       "      <td>-0.002453</td>\n",
       "      <td>-0.158186</td>\n",
       "      <td>-0.248506</td>\n",
       "      <td>1.000000</td>\n",
       "      <td>-0.235132</td>\n",
       "    </tr>\n",
       "    <tr>\n",
       "      <th>cnt</th>\n",
       "      <td>0.569728</td>\n",
       "      <td>-0.068764</td>\n",
       "      <td>-0.027640</td>\n",
       "      <td>0.627044</td>\n",
       "      <td>-0.098543</td>\n",
       "      <td>-0.235132</td>\n",
       "      <td>1.000000</td>\n",
       "    </tr>\n",
       "  </tbody>\n",
       "</table>\n",
       "</div>"
      ],
      "text/plain": [
       "                  yr   holiday  workingday      temp       hum  windspeed  \\\n",
       "yr          1.000000  0.008195   -0.011852  0.048789 -0.112547  -0.011624   \n",
       "holiday     0.008195  1.000000   -0.257009 -0.028764 -0.015662   0.006257   \n",
       "workingday -0.011852 -0.257009    1.000000  0.002044  0.053770  -0.002453   \n",
       "temp        0.048789 -0.028764    0.002044  1.000000  0.128565  -0.158186   \n",
       "hum        -0.112547 -0.015662    0.053770  0.128565  1.000000  -0.248506   \n",
       "windspeed  -0.011624  0.006257   -0.002453 -0.158186 -0.248506   1.000000   \n",
       "cnt         0.569728 -0.068764   -0.027640  0.627044 -0.098543  -0.235132   \n",
       "\n",
       "                 cnt  \n",
       "yr          0.569728  \n",
       "holiday    -0.068764  \n",
       "workingday -0.027640  \n",
       "temp        0.627044  \n",
       "hum        -0.098543  \n",
       "windspeed  -0.235132  \n",
       "cnt         1.000000  "
      ]
     },
     "execution_count": 26,
     "metadata": {},
     "output_type": "execute_result"
    }
   ],
   "source": [
    "# correlation matrix of numerical variables\n",
    "BoomBikes.corr()"
   ]
  },
  {
   "cell_type": "code",
   "execution_count": 27,
   "metadata": {},
   "outputs": [
    {
     "data": {
      "image/png": "[encoded data removed]",
      "text/plain": [
       "<Figure size 1080x720 with 2 Axes>"
      ]
     },
     "metadata": {
      "needs_background": "light"
     },
     "output_type": "display_data"
    }
   ],
   "source": [
    "# once again viewing the heatmap before moving to data preperation\n",
    "plt.figure(figsize = (15,10))\n",
    "sns.heatmap(BoomBikes.corr(), annot = True, cmap = \"Blues\")\n",
    "plt.show()"
   ]
  },
  {
   "cell_type": "markdown",
   "metadata": {},
   "source": [
    "### Step 2 - Preparing the data for modelling\n",
    "#### Creating Dummy Variables for 'season' and 'weathersit' columns"
   ]
  },
  {
   "cell_type": "code",
   "execution_count": 28,
   "metadata": {},
   "outputs": [
    {
     "data": {
      "text/plain": [
       "fall      188\n",
       "summer    184\n",
       "spring    180\n",
       "winter    178\n",
       "Name: season, dtype: int64"
      ]
     },
     "execution_count": 28,
     "metadata": {},
     "output_type": "execute_result"
    }
   ],
   "source": [
    "# viewing value counts of season column\n",
    "BoomBikes.season.value_counts()"
   ]
  },
  {
   "cell_type": "code",
   "execution_count": 29,
   "metadata": {},
   "outputs": [],
   "source": [
    "# creating dummy variables for 'season'\n",
    "status_season = pd.get_dummies(BoomBikes[\"season\"], drop_first = True)"
   ]
  },
  {
   "cell_type": "code",
   "execution_count": 30,
   "metadata": {},
   "outputs": [
    {
     "data": {
      "text/html": [
       "<div>\n",
       "<style scoped>\n",
       "    .dataframe tbody tr th:only-of-type {\n",
       "        vertical-align: middle;\n",
       "    }\n",
       "\n",
       "    .dataframe tbody tr th {\n",
       "        vertical-align: top;\n",
       "    }\n",
       "\n",
       "    .dataframe thead th {\n",
       "        text-align: right;\n",
       "    }\n",
       "</style>\n",
       "<table border=\"1\" class=\"dataframe\">\n",
       "  <thead>\n",
       "    <tr style=\"text-align: right;\">\n",
       "      <th></th>\n",
       "      <th>spring</th>\n",
       "      <th>summer</th>\n",
       "      <th>winter</th>\n",
       "    </tr>\n",
       "  </thead>\n",
       "  <tbody>\n",
       "    <tr>\n",
       "      <th>0</th>\n",
       "      <td>1</td>\n",
       "      <td>0</td>\n",
       "      <td>0</td>\n",
       "    </tr>\n",
       "    <tr>\n",
       "      <th>1</th>\n",
       "      <td>1</td>\n",
       "      <td>0</td>\n",
       "      <td>0</td>\n",
       "    </tr>\n",
       "    <tr>\n",
       "      <th>2</th>\n",
       "      <td>1</td>\n",
       "      <td>0</td>\n",
       "      <td>0</td>\n",
       "    </tr>\n",
       "    <tr>\n",
       "      <th>3</th>\n",
       "      <td>1</td>\n",
       "      <td>0</td>\n",
       "      <td>0</td>\n",
       "    </tr>\n",
       "    <tr>\n",
       "      <th>4</th>\n",
       "      <td>1</td>\n",
       "      <td>0</td>\n",
       "      <td>0</td>\n",
       "    </tr>\n",
       "  </tbody>\n",
       "</table>\n",
       "</div>"
      ],
      "text/plain": [
       "   spring  summer  winter\n",
       "0       1       0       0\n",
       "1       1       0       0\n",
       "2       1       0       0\n",
       "3       1       0       0\n",
       "4       1       0       0"
      ]
     },
     "execution_count": 30,
     "metadata": {},
     "output_type": "execute_result"
    }
   ],
   "source": [
    "# viewing the columns\n",
    "status_season.head()"
   ]
  },
  {
   "cell_type": "code",
   "execution_count": 31,
   "metadata": {},
   "outputs": [],
   "source": [
    "# conactenating both the dataframes\n",
    "BoomBikes = pd.concat([BoomBikes, status_season], axis = 1)"
   ]
  },
  {
   "cell_type": "code",
   "execution_count": 32,
   "metadata": {},
   "outputs": [],
   "source": [
    "# dropping season column\n",
    "BoomBikes.drop('season', axis = 1, inplace = True)"
   ]
  },
  {
   "cell_type": "code",
   "execution_count": 33,
   "metadata": {},
   "outputs": [
    {
     "data": {
      "text/plain": [
       "oct    62\n",
       "may    62\n",
       "mar    62\n",
       "jul    62\n",
       "jan    62\n",
       "dec    62\n",
       "aug    62\n",
       "sep    60\n",
       "nov    60\n",
       "jun    60\n",
       "apr    60\n",
       "feb    56\n",
       "Name: mnth, dtype: int64"
      ]
     },
     "execution_count": 33,
     "metadata": {},
     "output_type": "execute_result"
    }
   ],
   "source": [
    "# creating dummy variables for 'mnth'\n",
    "BoomBikes.mnth.value_counts()"
   ]
  },
  {
   "cell_type": "code",
   "execution_count": 34,
   "metadata": {},
   "outputs": [],
   "source": [
    "# creating dummy variables for 'mnth'\n",
    "status_mnth = pd.get_dummies(BoomBikes[\"mnth\"], drop_first = True)"
   ]
  },
  {
   "cell_type": "code",
   "execution_count": 35,
   "metadata": {},
   "outputs": [
    {
     "data": {
      "text/html": [
       "<div>\n",
       "<style scoped>\n",
       "    .dataframe tbody tr th:only-of-type {\n",
       "        vertical-align: middle;\n",
       "    }\n",
       "\n",
       "    .dataframe tbody tr th {\n",
       "        vertical-align: top;\n",
       "    }\n",
       "\n",
       "    .dataframe thead th {\n",
       "        text-align: right;\n",
       "    }\n",
       "</style>\n",
       "<table border=\"1\" class=\"dataframe\">\n",
       "  <thead>\n",
       "    <tr style=\"text-align: right;\">\n",
       "      <th></th>\n",
       "      <th>aug</th>\n",
       "      <th>dec</th>\n",
       "      <th>feb</th>\n",
       "      <th>jan</th>\n",
       "      <th>jul</th>\n",
       "      <th>jun</th>\n",
       "      <th>mar</th>\n",
       "      <th>may</th>\n",
       "      <th>nov</th>\n",
       "      <th>oct</th>\n",
       "      <th>sep</th>\n",
       "    </tr>\n",
       "  </thead>\n",
       "  <tbody>\n",
       "    <tr>\n",
       "      <th>0</th>\n",
       "      <td>0</td>\n",
       "      <td>0</td>\n",
       "      <td>0</td>\n",
       "      <td>1</td>\n",
       "      <td>0</td>\n",
       "      <td>0</td>\n",
       "      <td>0</td>\n",
       "      <td>0</td>\n",
       "      <td>0</td>\n",
       "      <td>0</td>\n",
       "      <td>0</td>\n",
       "    </tr>\n",
       "    <tr>\n",
       "      <th>1</th>\n",
       "      <td>0</td>\n",
       "      <td>0</td>\n",
       "      <td>0</td>\n",
       "      <td>1</td>\n",
       "      <td>0</td>\n",
       "      <td>0</td>\n",
       "      <td>0</td>\n",
       "      <td>0</td>\n",
       "      <td>0</td>\n",
       "      <td>0</td>\n",
       "      <td>0</td>\n",
       "    </tr>\n",
       "    <tr>\n",
       "      <th>2</th>\n",
       "      <td>0</td>\n",
       "      <td>0</td>\n",
       "      <td>0</td>\n",
       "      <td>1</td>\n",
       "      <td>0</td>\n",
       "      <td>0</td>\n",
       "      <td>0</td>\n",
       "      <td>0</td>\n",
       "      <td>0</td>\n",
       "      <td>0</td>\n",
       "      <td>0</td>\n",
       "    </tr>\n",
       "    <tr>\n",
       "      <th>3</th>\n",
       "      <td>0</td>\n",
       "      <td>0</td>\n",
       "      <td>0</td>\n",
       "      <td>1</td>\n",
       "      <td>0</td>\n",
       "      <td>0</td>\n",
       "      <td>0</td>\n",
       "      <td>0</td>\n",
       "      <td>0</td>\n",
       "      <td>0</td>\n",
       "      <td>0</td>\n",
       "    </tr>\n",
       "    <tr>\n",
       "      <th>4</th>\n",
       "      <td>0</td>\n",
       "      <td>0</td>\n",
       "      <td>0</td>\n",
       "      <td>1</td>\n",
       "      <td>0</td>\n",
       "      <td>0</td>\n",
       "      <td>0</td>\n",
       "      <td>0</td>\n",
       "      <td>0</td>\n",
       "      <td>0</td>\n",
       "      <td>0</td>\n",
       "    </tr>\n",
       "  </tbody>\n",
       "</table>\n",
       "</div>"
      ],
      "text/plain": [
       "   aug  dec  feb  jan  jul  jun  mar  may  nov  oct  sep\n",
       "0    0    0    0    1    0    0    0    0    0    0    0\n",
       "1    0    0    0    1    0    0    0    0    0    0    0\n",
       "2    0    0    0    1    0    0    0    0    0    0    0\n",
       "3    0    0    0    1    0    0    0    0    0    0    0\n",
       "4    0    0    0    1    0    0    0    0    0    0    0"
      ]
     },
     "execution_count": 35,
     "metadata": {},
     "output_type": "execute_result"
    }
   ],
   "source": [
    "# viewing the columns\n",
    "status_mnth.head()"
   ]
  },
  {
   "cell_type": "code",
   "execution_count": 36,
   "metadata": {},
   "outputs": [],
   "source": [
    "# conactenating both the dataframes\n",
    "BoomBikes = pd.concat([BoomBikes, status_mnth], axis = 1)"
   ]
  },
  {
   "cell_type": "code",
   "execution_count": 37,
   "metadata": {},
   "outputs": [],
   "source": [
    "# dropping mnth column\n",
    "BoomBikes.drop(\"mnth\", axis = 1, inplace = True)"
   ]
  },
  {
   "cell_type": "code",
   "execution_count": 38,
   "metadata": {},
   "outputs": [
    {
     "data": {
      "text/plain": [
       "tue    105\n",
       "mon    105\n",
       "wed    104\n",
       "thu    104\n",
       "sun    104\n",
       "sat    104\n",
       "fri    104\n",
       "Name: weekday, dtype: int64"
      ]
     },
     "execution_count": 38,
     "metadata": {},
     "output_type": "execute_result"
    }
   ],
   "source": [
    "# viewing value counts of weekday column\n",
    "BoomBikes.weekday.value_counts()"
   ]
  },
  {
   "cell_type": "code",
   "execution_count": 39,
   "metadata": {},
   "outputs": [],
   "source": [
    "# creating dummy variables for 'weekday'\n",
    "status_weekday = pd.get_dummies(BoomBikes[\"weekday\"], drop_first = True)"
   ]
  },
  {
   "cell_type": "code",
   "execution_count": 40,
   "metadata": {},
   "outputs": [
    {
     "data": {
      "text/html": [
       "<div>\n",
       "<style scoped>\n",
       "    .dataframe tbody tr th:only-of-type {\n",
       "        vertical-align: middle;\n",
       "    }\n",
       "\n",
       "    .dataframe tbody tr th {\n",
       "        vertical-align: top;\n",
       "    }\n",
       "\n",
       "    .dataframe thead th {\n",
       "        text-align: right;\n",
       "    }\n",
       "</style>\n",
       "<table border=\"1\" class=\"dataframe\">\n",
       "  <thead>\n",
       "    <tr style=\"text-align: right;\">\n",
       "      <th></th>\n",
       "      <th>mon</th>\n",
       "      <th>sat</th>\n",
       "      <th>sun</th>\n",
       "      <th>thu</th>\n",
       "      <th>tue</th>\n",
       "      <th>wed</th>\n",
       "    </tr>\n",
       "  </thead>\n",
       "  <tbody>\n",
       "    <tr>\n",
       "      <th>0</th>\n",
       "      <td>1</td>\n",
       "      <td>0</td>\n",
       "      <td>0</td>\n",
       "      <td>0</td>\n",
       "      <td>0</td>\n",
       "      <td>0</td>\n",
       "    </tr>\n",
       "    <tr>\n",
       "      <th>1</th>\n",
       "      <td>0</td>\n",
       "      <td>0</td>\n",
       "      <td>0</td>\n",
       "      <td>0</td>\n",
       "      <td>1</td>\n",
       "      <td>0</td>\n",
       "    </tr>\n",
       "    <tr>\n",
       "      <th>2</th>\n",
       "      <td>0</td>\n",
       "      <td>0</td>\n",
       "      <td>0</td>\n",
       "      <td>0</td>\n",
       "      <td>0</td>\n",
       "      <td>1</td>\n",
       "    </tr>\n",
       "    <tr>\n",
       "      <th>3</th>\n",
       "      <td>0</td>\n",
       "      <td>0</td>\n",
       "      <td>0</td>\n",
       "      <td>1</td>\n",
       "      <td>0</td>\n",
       "      <td>0</td>\n",
       "    </tr>\n",
       "    <tr>\n",
       "      <th>4</th>\n",
       "      <td>0</td>\n",
       "      <td>0</td>\n",
       "      <td>0</td>\n",
       "      <td>0</td>\n",
       "      <td>0</td>\n",
       "      <td>0</td>\n",
       "    </tr>\n",
       "  </tbody>\n",
       "</table>\n",
       "</div>"
      ],
      "text/plain": [
       "   mon  sat  sun  thu  tue  wed\n",
       "0    1    0    0    0    0    0\n",
       "1    0    0    0    0    1    0\n",
       "2    0    0    0    0    0    1\n",
       "3    0    0    0    1    0    0\n",
       "4    0    0    0    0    0    0"
      ]
     },
     "execution_count": 40,
     "metadata": {},
     "output_type": "execute_result"
    }
   ],
   "source": [
    "# viewing the columns\n",
    "status_weekday.head()"
   ]
  },
  {
   "cell_type": "code",
   "execution_count": 41,
   "metadata": {},
   "outputs": [],
   "source": [
    "# conactenating both the dataframes\n",
    "BoomBikes = pd.concat([BoomBikes, status_weekday], axis = 1)"
   ]
  },
  {
   "cell_type": "code",
   "execution_count": 42,
   "metadata": {},
   "outputs": [],
   "source": [
    "# dropping weekday column\n",
    "BoomBikes.drop(\"weekday\", axis = 1, inplace = True)"
   ]
  },
  {
   "cell_type": "code",
   "execution_count": 43,
   "metadata": {},
   "outputs": [
    {
     "data": {
      "text/plain": [
       "clear              463\n",
       "misty/cloudy       246\n",
       "light rain/snow     21\n",
       "Name: weathersit, dtype: int64"
      ]
     },
     "execution_count": 43,
     "metadata": {},
     "output_type": "execute_result"
    }
   ],
   "source": [
    "# viewing value counts of weathersit column\n",
    "BoomBikes.weathersit.value_counts()"
   ]
  },
  {
   "cell_type": "code",
   "execution_count": 44,
   "metadata": {},
   "outputs": [],
   "source": [
    "# creating dummy variables for 'weathersit'\n",
    "status_weathersit = pd.get_dummies(BoomBikes[\"weathersit\"], drop_first = True)"
   ]
  },
  {
   "cell_type": "code",
   "execution_count": 45,
   "metadata": {},
   "outputs": [
    {
     "data": {
      "text/html": [
       "<div>\n",
       "<style scoped>\n",
       "    .dataframe tbody tr th:only-of-type {\n",
       "        vertical-align: middle;\n",
       "    }\n",
       "\n",
       "    .dataframe tbody tr th {\n",
       "        vertical-align: top;\n",
       "    }\n",
       "\n",
       "    .dataframe thead th {\n",
       "        text-align: right;\n",
       "    }\n",
       "</style>\n",
       "<table border=\"1\" class=\"dataframe\">\n",
       "  <thead>\n",
       "    <tr style=\"text-align: right;\">\n",
       "      <th></th>\n",
       "      <th>light rain/snow</th>\n",
       "      <th>misty/cloudy</th>\n",
       "    </tr>\n",
       "  </thead>\n",
       "  <tbody>\n",
       "    <tr>\n",
       "      <th>0</th>\n",
       "      <td>0</td>\n",
       "      <td>1</td>\n",
       "    </tr>\n",
       "    <tr>\n",
       "      <th>1</th>\n",
       "      <td>0</td>\n",
       "      <td>1</td>\n",
       "    </tr>\n",
       "    <tr>\n",
       "      <th>2</th>\n",
       "      <td>0</td>\n",
       "      <td>0</td>\n",
       "    </tr>\n",
       "    <tr>\n",
       "      <th>3</th>\n",
       "      <td>0</td>\n",
       "      <td>0</td>\n",
       "    </tr>\n",
       "    <tr>\n",
       "      <th>4</th>\n",
       "      <td>0</td>\n",
       "      <td>0</td>\n",
       "    </tr>\n",
       "  </tbody>\n",
       "</table>\n",
       "</div>"
      ],
      "text/plain": [
       "   light rain/snow  misty/cloudy\n",
       "0                0             1\n",
       "1                0             1\n",
       "2                0             0\n",
       "3                0             0\n",
       "4                0             0"
      ]
     },
     "execution_count": 45,
     "metadata": {},
     "output_type": "execute_result"
    }
   ],
   "source": [
    "# viewing the columns\n",
    "status_weathersit.head()"
   ]
  },
  {
   "cell_type": "code",
   "execution_count": 46,
   "metadata": {},
   "outputs": [],
   "source": [
    "# conactenating both the dataframes\n",
    "BoomBikes = pd.concat([BoomBikes, status_weathersit], axis = 1)"
   ]
  },
  {
   "cell_type": "code",
   "execution_count": 47,
   "metadata": {},
   "outputs": [],
   "source": [
    "# dropping weathersit column\n",
    "BoomBikes.drop('weathersit', axis = 1, inplace = True)"
   ]
  },
  {
   "cell_type": "code",
   "execution_count": 48,
   "metadata": {},
   "outputs": [
    {
     "name": "stdout",
     "output_type": "stream",
     "text": [
      "<class 'pandas.core.frame.DataFrame'>\n",
      "RangeIndex: 730 entries, 0 to 729\n",
      "Data columns (total 29 columns):\n",
      " #   Column           Non-Null Count  Dtype  \n",
      "---  ------           --------------  -----  \n",
      " 0   yr               730 non-null    int64  \n",
      " 1   holiday          730 non-null    int64  \n",
      " 2   workingday       730 non-null    int64  \n",
      " 3   temp             730 non-null    float64\n",
      " 4   hum              730 non-null    float64\n",
      " 5   windspeed        730 non-null    float64\n",
      " 6   cnt              730 non-null    int64  \n",
      " 7   spring           730 non-null    uint8  \n",
      " 8   summer           730 non-null    uint8  \n",
      " 9   winter           730 non-null    uint8  \n",
      " 10  aug              730 non-null    uint8  \n",
      " 11  dec              730 non-null    uint8  \n",
      " 12  feb              730 non-null    uint8  \n",
      " 13  jan              730 non-null    uint8  \n",
      " 14  jul              730 non-null    uint8  \n",
      " 15  jun              730 non-null    uint8  \n",
      " 16  mar              730 non-null    uint8  \n",
      " 17  may              730 non-null    uint8  \n",
      " 18  nov              730 non-null    uint8  \n",
      " 19  oct              730 non-null    uint8  \n",
      " 20  sep              730 non-null    uint8  \n",
      " 21  mon              730 non-null    uint8  \n",
      " 22  sat              730 non-null    uint8  \n",
      " 23  sun              730 non-null    uint8  \n",
      " 24  thu              730 non-null    uint8  \n",
      " 25  tue              730 non-null    uint8  \n",
      " 26  wed              730 non-null    uint8  \n",
      " 27  light rain/snow  730 non-null    uint8  \n",
      " 28  misty/cloudy     730 non-null    uint8  \n",
      "dtypes: float64(3), int64(4), uint8(22)\n",
      "memory usage: 55.7 KB\n"
     ]
    }
   ],
   "source": [
    "# looking at columns of final dataframe\n",
    "BoomBikes.info()"
   ]
  },
  {
   "cell_type": "markdown",
   "metadata": {},
   "source": [
    "#### Splitting the Data into Training and Testing Sets"
   ]
  },
  {
   "cell_type": "code",
   "execution_count": 49,
   "metadata": {},
   "outputs": [],
   "source": [
    "# conducting train-test split\n",
    "np.random.seed(0)\n",
    "BB_train, BB_test = train_test_split(BoomBikes, train_size = 0.7, random_state = 100)"
   ]
  },
  {
   "cell_type": "code",
   "execution_count": 50,
   "metadata": {},
   "outputs": [
    {
     "name": "stdout",
     "output_type": "stream",
     "text": [
      "(510, 29)\n",
      "(220, 29)\n"
     ]
    }
   ],
   "source": [
    "# viewing shape of trai and test dataframes\n",
    "print(BB_train.shape)\n",
    "print(BB_test.shape)"
   ]
  },
  {
   "cell_type": "markdown",
   "metadata": {},
   "source": [
    "#### Rescaling the features"
   ]
  },
  {
   "cell_type": "code",
   "execution_count": 51,
   "metadata": {},
   "outputs": [],
   "source": [
    "# declaring scaler as MinMaxScaler\n",
    "scaler = MinMaxScaler()"
   ]
  },
  {
   "cell_type": "code",
   "execution_count": 52,
   "metadata": {},
   "outputs": [
    {
     "data": {
      "text/plain": [
       "Index(['yr', 'holiday', 'workingday', 'temp', 'hum', 'windspeed', 'cnt',\n",
       "       'spring', 'summer', 'winter', 'aug', 'dec', 'feb', 'jan', 'jul', 'jun',\n",
       "       'mar', 'may', 'nov', 'oct', 'sep', 'mon', 'sat', 'sun', 'thu', 'tue',\n",
       "       'wed', 'light rain/snow', 'misty/cloudy'],\n",
       "      dtype='object')"
      ]
     },
     "execution_count": 52,
     "metadata": {},
     "output_type": "execute_result"
    }
   ],
   "source": [
    "# viewing columns to identify the columns to be rescaled\n",
    "BB_train.columns"
   ]
  },
  {
   "cell_type": "code",
   "execution_count": 53,
   "metadata": {},
   "outputs": [],
   "source": [
    "# Apply scaler() to all the columns except the 'yes-no' and 'dummy' variables\n",
    "num_vars = ['temp', 'hum', 'windspeed', 'cnt']\n",
    "\n",
    "# performing fir_transform on the training data\n",
    "BB_train[num_vars] = scaler.fit_transform(BB_train[num_vars])"
   ]
  },
  {
   "cell_type": "code",
   "execution_count": 54,
   "metadata": {},
   "outputs": [
    {
     "data": {
      "text/html": [
       "<div>\n",
       "<style scoped>\n",
       "    .dataframe tbody tr th:only-of-type {\n",
       "        vertical-align: middle;\n",
       "    }\n",
       "\n",
       "    .dataframe tbody tr th {\n",
       "        vertical-align: top;\n",
       "    }\n",
       "\n",
       "    .dataframe thead th {\n",
       "        text-align: right;\n",
       "    }\n",
       "</style>\n",
       "<table border=\"1\" class=\"dataframe\">\n",
       "  <thead>\n",
       "    <tr style=\"text-align: right;\">\n",
       "      <th></th>\n",
       "      <th>yr</th>\n",
       "      <th>holiday</th>\n",
       "      <th>workingday</th>\n",
       "      <th>temp</th>\n",
       "      <th>hum</th>\n",
       "      <th>windspeed</th>\n",
       "      <th>cnt</th>\n",
       "      <th>spring</th>\n",
       "      <th>summer</th>\n",
       "      <th>winter</th>\n",
       "      <th>...</th>\n",
       "      <th>oct</th>\n",
       "      <th>sep</th>\n",
       "      <th>mon</th>\n",
       "      <th>sat</th>\n",
       "      <th>sun</th>\n",
       "      <th>thu</th>\n",
       "      <th>tue</th>\n",
       "      <th>wed</th>\n",
       "      <th>light rain/snow</th>\n",
       "      <th>misty/cloudy</th>\n",
       "    </tr>\n",
       "  </thead>\n",
       "  <tbody>\n",
       "    <tr>\n",
       "      <th>count</th>\n",
       "      <td>510.00</td>\n",
       "      <td>510.00</td>\n",
       "      <td>510.00</td>\n",
       "      <td>510.00</td>\n",
       "      <td>510.00</td>\n",
       "      <td>510.00</td>\n",
       "      <td>510.00</td>\n",
       "      <td>510.00</td>\n",
       "      <td>510.00</td>\n",
       "      <td>510.00</td>\n",
       "      <td>...</td>\n",
       "      <td>510.00</td>\n",
       "      <td>510.00</td>\n",
       "      <td>510.00</td>\n",
       "      <td>510.00</td>\n",
       "      <td>510.00</td>\n",
       "      <td>510.00</td>\n",
       "      <td>510.00</td>\n",
       "      <td>510.00</td>\n",
       "      <td>510.00</td>\n",
       "      <td>510.00</td>\n",
       "    </tr>\n",
       "    <tr>\n",
       "      <th>mean</th>\n",
       "      <td>0.51</td>\n",
       "      <td>0.03</td>\n",
       "      <td>0.71</td>\n",
       "      <td>0.54</td>\n",
       "      <td>0.65</td>\n",
       "      <td>0.32</td>\n",
       "      <td>0.51</td>\n",
       "      <td>0.24</td>\n",
       "      <td>0.25</td>\n",
       "      <td>0.25</td>\n",
       "      <td>...</td>\n",
       "      <td>0.08</td>\n",
       "      <td>0.08</td>\n",
       "      <td>0.15</td>\n",
       "      <td>0.13</td>\n",
       "      <td>0.14</td>\n",
       "      <td>0.14</td>\n",
       "      <td>0.15</td>\n",
       "      <td>0.14</td>\n",
       "      <td>0.03</td>\n",
       "      <td>0.35</td>\n",
       "    </tr>\n",
       "    <tr>\n",
       "      <th>std</th>\n",
       "      <td>0.50</td>\n",
       "      <td>0.16</td>\n",
       "      <td>0.45</td>\n",
       "      <td>0.23</td>\n",
       "      <td>0.15</td>\n",
       "      <td>0.17</td>\n",
       "      <td>0.22</td>\n",
       "      <td>0.43</td>\n",
       "      <td>0.43</td>\n",
       "      <td>0.43</td>\n",
       "      <td>...</td>\n",
       "      <td>0.28</td>\n",
       "      <td>0.27</td>\n",
       "      <td>0.36</td>\n",
       "      <td>0.34</td>\n",
       "      <td>0.34</td>\n",
       "      <td>0.35</td>\n",
       "      <td>0.36</td>\n",
       "      <td>0.34</td>\n",
       "      <td>0.17</td>\n",
       "      <td>0.48</td>\n",
       "    </tr>\n",
       "    <tr>\n",
       "      <th>min</th>\n",
       "      <td>0.00</td>\n",
       "      <td>0.00</td>\n",
       "      <td>0.00</td>\n",
       "      <td>0.00</td>\n",
       "      <td>0.00</td>\n",
       "      <td>0.00</td>\n",
       "      <td>0.00</td>\n",
       "      <td>0.00</td>\n",
       "      <td>0.00</td>\n",
       "      <td>0.00</td>\n",
       "      <td>...</td>\n",
       "      <td>0.00</td>\n",
       "      <td>0.00</td>\n",
       "      <td>0.00</td>\n",
       "      <td>0.00</td>\n",
       "      <td>0.00</td>\n",
       "      <td>0.00</td>\n",
       "      <td>0.00</td>\n",
       "      <td>0.00</td>\n",
       "      <td>0.00</td>\n",
       "      <td>0.00</td>\n",
       "    </tr>\n",
       "    <tr>\n",
       "      <th>25%</th>\n",
       "      <td>0.00</td>\n",
       "      <td>0.00</td>\n",
       "      <td>0.00</td>\n",
       "      <td>0.34</td>\n",
       "      <td>0.54</td>\n",
       "      <td>0.20</td>\n",
       "      <td>0.36</td>\n",
       "      <td>0.00</td>\n",
       "      <td>0.00</td>\n",
       "      <td>0.00</td>\n",
       "      <td>...</td>\n",
       "      <td>0.00</td>\n",
       "      <td>0.00</td>\n",
       "      <td>0.00</td>\n",
       "      <td>0.00</td>\n",
       "      <td>0.00</td>\n",
       "      <td>0.00</td>\n",
       "      <td>0.00</td>\n",
       "      <td>0.00</td>\n",
       "      <td>0.00</td>\n",
       "      <td>0.00</td>\n",
       "    </tr>\n",
       "    <tr>\n",
       "      <th>50%</th>\n",
       "      <td>1.00</td>\n",
       "      <td>0.00</td>\n",
       "      <td>1.00</td>\n",
       "      <td>0.54</td>\n",
       "      <td>0.65</td>\n",
       "      <td>0.30</td>\n",
       "      <td>0.52</td>\n",
       "      <td>0.00</td>\n",
       "      <td>0.00</td>\n",
       "      <td>0.00</td>\n",
       "      <td>...</td>\n",
       "      <td>0.00</td>\n",
       "      <td>0.00</td>\n",
       "      <td>0.00</td>\n",
       "      <td>0.00</td>\n",
       "      <td>0.00</td>\n",
       "      <td>0.00</td>\n",
       "      <td>0.00</td>\n",
       "      <td>0.00</td>\n",
       "      <td>0.00</td>\n",
       "      <td>0.00</td>\n",
       "    </tr>\n",
       "    <tr>\n",
       "      <th>75%</th>\n",
       "      <td>1.00</td>\n",
       "      <td>0.00</td>\n",
       "      <td>1.00</td>\n",
       "      <td>0.74</td>\n",
       "      <td>0.75</td>\n",
       "      <td>0.41</td>\n",
       "      <td>0.68</td>\n",
       "      <td>0.00</td>\n",
       "      <td>0.00</td>\n",
       "      <td>0.00</td>\n",
       "      <td>...</td>\n",
       "      <td>0.00</td>\n",
       "      <td>0.00</td>\n",
       "      <td>0.00</td>\n",
       "      <td>0.00</td>\n",
       "      <td>0.00</td>\n",
       "      <td>0.00</td>\n",
       "      <td>0.00</td>\n",
       "      <td>0.00</td>\n",
       "      <td>0.00</td>\n",
       "      <td>1.00</td>\n",
       "    </tr>\n",
       "    <tr>\n",
       "      <th>max</th>\n",
       "      <td>1.00</td>\n",
       "      <td>1.00</td>\n",
       "      <td>1.00</td>\n",
       "      <td>1.00</td>\n",
       "      <td>1.00</td>\n",
       "      <td>1.00</td>\n",
       "      <td>1.00</td>\n",
       "      <td>1.00</td>\n",
       "      <td>1.00</td>\n",
       "      <td>1.00</td>\n",
       "      <td>...</td>\n",
       "      <td>1.00</td>\n",
       "      <td>1.00</td>\n",
       "      <td>1.00</td>\n",
       "      <td>1.00</td>\n",
       "      <td>1.00</td>\n",
       "      <td>1.00</td>\n",
       "      <td>1.00</td>\n",
       "      <td>1.00</td>\n",
       "      <td>1.00</td>\n",
       "      <td>1.00</td>\n",
       "    </tr>\n",
       "  </tbody>\n",
       "</table>\n",
       "<p>8 rows × 29 columns</p>\n",
       "</div>"
      ],
      "text/plain": [
       "           yr  holiday  workingday    temp     hum  windspeed     cnt  spring  \\\n",
       "count  510.00   510.00      510.00  510.00  510.00     510.00  510.00  510.00   \n",
       "mean     0.51     0.03        0.71    0.54    0.65       0.32    0.51    0.24   \n",
       "std      0.50     0.16        0.45    0.23    0.15       0.17    0.22    0.43   \n",
       "min      0.00     0.00        0.00    0.00    0.00       0.00    0.00    0.00   \n",
       "25%      0.00     0.00        0.00    0.34    0.54       0.20    0.36    0.00   \n",
       "50%      1.00     0.00        1.00    0.54    0.65       0.30    0.52    0.00   \n",
       "75%      1.00     0.00        1.00    0.74    0.75       0.41    0.68    0.00   \n",
       "max      1.00     1.00        1.00    1.00    1.00       1.00    1.00    1.00   \n",
       "\n",
       "       summer  winter  ...     oct     sep     mon     sat     sun     thu  \\\n",
       "count  510.00  510.00  ...  510.00  510.00  510.00  510.00  510.00  510.00   \n",
       "mean     0.25    0.25  ...    0.08    0.08    0.15    0.13    0.14    0.14   \n",
       "std      0.43    0.43  ...    0.28    0.27    0.36    0.34    0.34    0.35   \n",
       "min      0.00    0.00  ...    0.00    0.00    0.00    0.00    0.00    0.00   \n",
       "25%      0.00    0.00  ...    0.00    0.00    0.00    0.00    0.00    0.00   \n",
       "50%      0.00    0.00  ...    0.00    0.00    0.00    0.00    0.00    0.00   \n",
       "75%      0.00    0.00  ...    0.00    0.00    0.00    0.00    0.00    0.00   \n",
       "max      1.00    1.00  ...    1.00    1.00    1.00    1.00    1.00    1.00   \n",
       "\n",
       "          tue     wed  light rain/snow  misty/cloudy  \n",
       "count  510.00  510.00           510.00        510.00  \n",
       "mean     0.15    0.14             0.03          0.35  \n",
       "std      0.36    0.34             0.17          0.48  \n",
       "min      0.00    0.00             0.00          0.00  \n",
       "25%      0.00    0.00             0.00          0.00  \n",
       "50%      0.00    0.00             0.00          0.00  \n",
       "75%      0.00    0.00             0.00          1.00  \n",
       "max      1.00    1.00             1.00          1.00  \n",
       "\n",
       "[8 rows x 29 columns]"
      ]
     },
     "execution_count": 54,
     "metadata": {},
     "output_type": "execute_result"
    }
   ],
   "source": [
    "# checking the max and min values\n",
    "BB_train.describe().round(2)"
   ]
  },
  {
   "cell_type": "markdown",
   "metadata": {},
   "source": [
    "#### Dividing training set into X and Y sets for the model building"
   ]
  },
  {
   "cell_type": "code",
   "execution_count": 55,
   "metadata": {},
   "outputs": [],
   "source": [
    "y_train = BB_train.pop('cnt')\n",
    "X_train = BB_train"
   ]
  },
  {
   "cell_type": "markdown",
   "metadata": {},
   "source": [
    "### Step 3 - Training the model"
   ]
  },
  {
   "cell_type": "markdown",
   "metadata": {},
   "source": [
    "#### Using the LinearRegression function from SciKit Learn for its compatibility with Recursive Function Elimination "
   ]
  },
  {
   "cell_type": "code",
   "execution_count": 56,
   "metadata": {},
   "outputs": [
    {
     "data": {
      "text/plain": [
       "LinearRegression()"
      ]
     },
     "execution_count": 56,
     "metadata": {},
     "output_type": "execute_result"
    }
   ],
   "source": [
    "# fitting the model\n",
    "lm = LinearRegression()\n",
    "lm.fit(X_train, y_train)"
   ]
  },
  {
   "cell_type": "code",
   "execution_count": 57,
   "metadata": {},
   "outputs": [],
   "source": [
    "# I have chosen to do a blend of RFE and manual backward elimination method of feature selection;\n",
    "# using RFE i'll select 20 variables and further drop insignificant ones\n",
    "rfe = RFE(lm, 20)"
   ]
  },
  {
   "cell_type": "code",
   "execution_count": 58,
   "metadata": {},
   "outputs": [],
   "source": [
    "# fitting RFE on training set\n",
    "rfe = rfe.fit(X_train, y_train)"
   ]
  },
  {
   "cell_type": "code",
   "execution_count": 59,
   "metadata": {},
   "outputs": [
    {
     "data": {
      "text/plain": [
       "[('yr', True, 1),\n",
       " ('holiday', True, 1),\n",
       " ('workingday', True, 1),\n",
       " ('temp', True, 1),\n",
       " ('hum', True, 1),\n",
       " ('windspeed', True, 1),\n",
       " ('spring', True, 1),\n",
       " ('summer', True, 1),\n",
       " ('winter', True, 1),\n",
       " ('aug', False, 4),\n",
       " ('dec', True, 1),\n",
       " ('feb', True, 1),\n",
       " ('jan', True, 1),\n",
       " ('jul', True, 1),\n",
       " ('jun', False, 6),\n",
       " ('mar', False, 9),\n",
       " ('may', False, 3),\n",
       " ('nov', True, 1),\n",
       " ('oct', False, 7),\n",
       " ('sep', True, 1),\n",
       " ('mon', False, 2),\n",
       " ('sat', True, 1),\n",
       " ('sun', True, 1),\n",
       " ('thu', False, 8),\n",
       " ('tue', True, 1),\n",
       " ('wed', False, 5),\n",
       " ('light rain/snow', True, 1),\n",
       " ('misty/cloudy', True, 1)]"
      ]
     },
     "execution_count": 59,
     "metadata": {},
     "output_type": "execute_result"
    }
   ],
   "source": [
    "# viewing the ranking that rfe has given to the columns\n",
    "list(zip(X_train.columns,rfe.support_,rfe.ranking_))"
   ]
  },
  {
   "cell_type": "code",
   "execution_count": 60,
   "metadata": {},
   "outputs": [
    {
     "data": {
      "text/plain": [
       "Index(['yr', 'holiday', 'workingday', 'temp', 'hum', 'windspeed', 'spring',\n",
       "       'summer', 'winter', 'dec', 'feb', 'jan', 'jul', 'nov', 'sep', 'sat',\n",
       "       'sun', 'tue', 'light rain/snow', 'misty/cloudy'],\n",
       "      dtype='object')"
      ]
     },
     "execution_count": 60,
     "metadata": {},
     "output_type": "execute_result"
    }
   ],
   "source": [
    "# taking cols where rfe support is true\n",
    "col = X_train.columns[rfe.support_]\n",
    "col"
   ]
  },
  {
   "cell_type": "code",
   "execution_count": 61,
   "metadata": {},
   "outputs": [],
   "source": [
    "# updating X_train\n",
    "X_train = X_train[col]"
   ]
  },
  {
   "cell_type": "markdown",
   "metadata": {},
   "source": [
    "#### Building model using statsmodel, for the detailed statistics"
   ]
  },
  {
   "cell_type": "code",
   "execution_count": 62,
   "metadata": {},
   "outputs": [
    {
     "data": {
      "text/plain": [
       "const              0.379997\n",
       "yr                 0.230876\n",
       "holiday           -0.133151\n",
       "workingday        -0.055343\n",
       "temp               0.462987\n",
       "hum               -0.150981\n",
       "windspeed         -0.186566\n",
       "spring            -0.051572\n",
       "summer             0.040132\n",
       "winter             0.102211\n",
       "dec               -0.046986\n",
       "feb               -0.034758\n",
       "jan               -0.062699\n",
       "jul               -0.052489\n",
       "nov               -0.041816\n",
       "sep                0.073661\n",
       "sat               -0.042950\n",
       "sun               -0.037032\n",
       "tue               -0.018600\n",
       "light rain/snow   -0.253082\n",
       "misty/cloudy      -0.057667\n",
       "dtype: float64"
      ]
     },
     "execution_count": 62,
     "metadata": {},
     "output_type": "execute_result"
    }
   ],
   "source": [
    "# adding a constant to our X_train\n",
    "X_train_lm = sm.add_constant(X_train)\n",
    "\n",
    "# creating first model, fitting the model and looking at coefficients\n",
    "lr_1 = sm.OLS(y_train, X_train_lm).fit()\n",
    "lr_1.params"
   ]
  },
  {
   "cell_type": "code",
   "execution_count": 63,
   "metadata": {},
   "outputs": [
    {
     "name": "stdout",
     "output_type": "stream",
     "text": [
      "                            OLS Regression Results                            \n",
      "==============================================================================\n",
      "Dep. Variable:                    cnt   R-squared:                       0.848\n",
      "Model:                            OLS   Adj. R-squared:                  0.842\n",
      "Method:                 Least Squares   F-statistic:                     136.5\n",
      "Date:                Mon, 05 Apr 2021   Prob (F-statistic):          1.90e-185\n",
      "Time:                        22:14:02   Log-Likelihood:                 519.42\n",
      "No. Observations:                 510   AIC:                            -996.8\n",
      "Df Residuals:                     489   BIC:                            -907.9\n",
      "Df Model:                          20                                         \n",
      "Covariance Type:            nonrobust                                         \n",
      "===================================================================================\n",
      "                      coef    std err          t      P>|t|      [0.025      0.975]\n",
      "-----------------------------------------------------------------------------------\n",
      "const               0.3800      0.081      4.713      0.000       0.222       0.538\n",
      "yr                  0.2309      0.008     28.600      0.000       0.215       0.247\n",
      "holiday            -0.1332      0.065     -2.037      0.042      -0.262      -0.005\n",
      "workingday         -0.0553      0.071     -0.783      0.434      -0.194       0.084\n",
      "temp                0.4630      0.038     12.149      0.000       0.388       0.538\n",
      "hum                -0.1510      0.038     -3.990      0.000      -0.225      -0.077\n",
      "windspeed          -0.1866      0.026     -7.247      0.000      -0.237      -0.136\n",
      "spring             -0.0516      0.022     -2.345      0.019      -0.095      -0.008\n",
      "summer              0.0401      0.015      2.607      0.009       0.010       0.070\n",
      "winter              0.1022      0.018      5.683      0.000       0.067       0.138\n",
      "dec                -0.0470      0.018     -2.564      0.011      -0.083      -0.011\n",
      "feb                -0.0348      0.022     -1.607      0.109      -0.077       0.008\n",
      "jan                -0.0627      0.021     -2.924      0.004      -0.105      -0.021\n",
      "jul                -0.0525      0.018     -2.882      0.004      -0.088      -0.017\n",
      "nov                -0.0418      0.019     -2.191      0.029      -0.079      -0.004\n",
      "sep                 0.0737      0.017      4.373      0.000       0.041       0.107\n",
      "sat                -0.0429      0.071     -0.609      0.543      -0.182       0.096\n",
      "sun                -0.0370      0.070     -0.526      0.599      -0.175       0.101\n",
      "tue                -0.0186      0.011     -1.623      0.105      -0.041       0.004\n",
      "light rain/snow    -0.2531      0.026     -9.582      0.000      -0.305      -0.201\n",
      "misty/cloudy       -0.0577      0.010     -5.505      0.000      -0.078      -0.037\n",
      "==============================================================================\n",
      "Omnibus:                       78.746   Durbin-Watson:                   2.024\n",
      "Prob(Omnibus):                  0.000   Jarque-Bera (JB):              186.978\n",
      "Skew:                          -0.804   Prob(JB):                     2.50e-41\n",
      "Kurtosis:                       5.493   Cond. No.                         68.4\n",
      "==============================================================================\n",
      "\n",
      "Notes:\n",
      "[1] Standard Errors assume that the covariance matrix of the errors is correctly specified.\n"
     ]
    }
   ],
   "source": [
    "# viewing summary of the model\n",
    "print(lr_1.summary())"
   ]
  },
  {
   "cell_type": "code",
   "execution_count": 64,
   "metadata": {},
   "outputs": [
    {
     "data": {
      "text/html": [
       "<div>\n",
       "<style scoped>\n",
       "    .dataframe tbody tr th:only-of-type {\n",
       "        vertical-align: middle;\n",
       "    }\n",
       "\n",
       "    .dataframe tbody tr th {\n",
       "        vertical-align: top;\n",
       "    }\n",
       "\n",
       "    .dataframe thead th {\n",
       "        text-align: right;\n",
       "    }\n",
       "</style>\n",
       "<table border=\"1\" class=\"dataframe\">\n",
       "  <thead>\n",
       "    <tr style=\"text-align: right;\">\n",
       "      <th></th>\n",
       "      <th>Features</th>\n",
       "      <th>VIF</th>\n",
       "    </tr>\n",
       "  </thead>\n",
       "  <tbody>\n",
       "    <tr>\n",
       "      <th>2</th>\n",
       "      <td>workingday</td>\n",
       "      <td>47.36</td>\n",
       "    </tr>\n",
       "    <tr>\n",
       "      <th>4</th>\n",
       "      <td>hum</td>\n",
       "      <td>38.38</td>\n",
       "    </tr>\n",
       "    <tr>\n",
       "      <th>3</th>\n",
       "      <td>temp</td>\n",
       "      <td>28.58</td>\n",
       "    </tr>\n",
       "    <tr>\n",
       "      <th>16</th>\n",
       "      <td>sun</td>\n",
       "      <td>9.58</td>\n",
       "    </tr>\n",
       "    <tr>\n",
       "      <th>15</th>\n",
       "      <td>sat</td>\n",
       "      <td>9.20</td>\n",
       "    </tr>\n",
       "    <tr>\n",
       "      <th>6</th>\n",
       "      <td>spring</td>\n",
       "      <td>7.02</td>\n",
       "    </tr>\n",
       "    <tr>\n",
       "      <th>5</th>\n",
       "      <td>windspeed</td>\n",
       "      <td>5.46</td>\n",
       "    </tr>\n",
       "    <tr>\n",
       "      <th>8</th>\n",
       "      <td>winter</td>\n",
       "      <td>4.90</td>\n",
       "    </tr>\n",
       "    <tr>\n",
       "      <th>7</th>\n",
       "      <td>summer</td>\n",
       "      <td>3.54</td>\n",
       "    </tr>\n",
       "    <tr>\n",
       "      <th>11</th>\n",
       "      <td>jan</td>\n",
       "      <td>2.54</td>\n",
       "    </tr>\n",
       "    <tr>\n",
       "      <th>19</th>\n",
       "      <td>misty/cloudy</td>\n",
       "      <td>2.42</td>\n",
       "    </tr>\n",
       "    <tr>\n",
       "      <th>1</th>\n",
       "      <td>holiday</td>\n",
       "      <td>2.33</td>\n",
       "    </tr>\n",
       "    <tr>\n",
       "      <th>0</th>\n",
       "      <td>yr</td>\n",
       "      <td>2.10</td>\n",
       "    </tr>\n",
       "    <tr>\n",
       "      <th>13</th>\n",
       "      <td>nov</td>\n",
       "      <td>2.01</td>\n",
       "    </tr>\n",
       "    <tr>\n",
       "      <th>10</th>\n",
       "      <td>feb</td>\n",
       "      <td>1.97</td>\n",
       "    </tr>\n",
       "    <tr>\n",
       "      <th>9</th>\n",
       "      <td>dec</td>\n",
       "      <td>1.78</td>\n",
       "    </tr>\n",
       "    <tr>\n",
       "      <th>12</th>\n",
       "      <td>jul</td>\n",
       "      <td>1.62</td>\n",
       "    </tr>\n",
       "    <tr>\n",
       "      <th>14</th>\n",
       "      <td>sep</td>\n",
       "      <td>1.45</td>\n",
       "    </tr>\n",
       "    <tr>\n",
       "      <th>18</th>\n",
       "      <td>light rain/snow</td>\n",
       "      <td>1.31</td>\n",
       "    </tr>\n",
       "    <tr>\n",
       "      <th>17</th>\n",
       "      <td>tue</td>\n",
       "      <td>1.29</td>\n",
       "    </tr>\n",
       "  </tbody>\n",
       "</table>\n",
       "</div>"
      ],
      "text/plain": [
       "           Features    VIF\n",
       "2        workingday  47.36\n",
       "4               hum  38.38\n",
       "3              temp  28.58\n",
       "16              sun   9.58\n",
       "15              sat   9.20\n",
       "6            spring   7.02\n",
       "5         windspeed   5.46\n",
       "8            winter   4.90\n",
       "7            summer   3.54\n",
       "11              jan   2.54\n",
       "19     misty/cloudy   2.42\n",
       "1           holiday   2.33\n",
       "0                yr   2.10\n",
       "13              nov   2.01\n",
       "10              feb   1.97\n",
       "9               dec   1.78\n",
       "12              jul   1.62\n",
       "14              sep   1.45\n",
       "18  light rain/snow   1.31\n",
       "17              tue   1.29"
      ]
     },
     "execution_count": 64,
     "metadata": {},
     "output_type": "execute_result"
    }
   ],
   "source": [
    "# viewing the VIFs of all the features/ individual predictors\n",
    "\n",
    "# Create a dataframe that will contain the names of all the feature variables and their respective VIFs\n",
    "vif = pd.DataFrame()\n",
    "vif['Features'] = X_train.columns\n",
    "\n",
    "vif['VIF'] = [variance_inflation_factor(X_train.values, i) for i in range(X_train.shape[1])]\n",
    "vif['VIF'] = round(vif['VIF'], 2)\n",
    "vif = vif.sort_values(by = \"VIF\", ascending = False)\n",
    "vif"
   ]
  },
  {
   "cell_type": "code",
   "execution_count": 65,
   "metadata": {},
   "outputs": [],
   "source": [
    "# dropping 'workingday' because of high p-value (>0.05) and high VIF (>5)\n",
    "\n",
    "X = X_train.drop(['workingday'], 1)\n",
    "\n",
    "# Building a second LR model\n",
    "\n",
    "X_train_lm = sm.add_constant(X)\n",
    "\n",
    "lr_2 = sm.OLS(y_train, X_train_lm).fit()"
   ]
  },
  {
   "cell_type": "code",
   "execution_count": 66,
   "metadata": {},
   "outputs": [
    {
     "name": "stdout",
     "output_type": "stream",
     "text": [
      "                            OLS Regression Results                            \n",
      "==============================================================================\n",
      "Dep. Variable:                    cnt   R-squared:                       0.848\n",
      "Model:                            OLS   Adj. R-squared:                  0.842\n",
      "Method:                 Least Squares   F-statistic:                     143.8\n",
      "Date:                Mon, 05 Apr 2021   Prob (F-statistic):          2.12e-186\n",
      "Time:                        22:14:03   Log-Likelihood:                 519.10\n",
      "No. Observations:                 510   AIC:                            -998.2\n",
      "Df Residuals:                     490   BIC:                            -913.5\n",
      "Df Model:                          19                                         \n",
      "Covariance Type:            nonrobust                                         \n",
      "===================================================================================\n",
      "                      coef    std err          t      P>|t|      [0.025      0.975]\n",
      "-----------------------------------------------------------------------------------\n",
      "const               0.3238      0.037      8.812      0.000       0.252       0.396\n",
      "yr                  0.2313      0.008     28.721      0.000       0.215       0.247\n",
      "holiday            -0.0861      0.026     -3.371      0.001      -0.136      -0.036\n",
      "temp                0.4635      0.038     12.171      0.000       0.389       0.538\n",
      "hum                -0.1501      0.038     -3.970      0.000      -0.224      -0.076\n",
      "windspeed          -0.1871      0.026     -7.274      0.000      -0.238      -0.137\n",
      "spring             -0.0511      0.022     -2.326      0.020      -0.094      -0.008\n",
      "summer              0.0403      0.015      2.617      0.009       0.010       0.071\n",
      "winter              0.1022      0.018      5.685      0.000       0.067       0.138\n",
      "dec                -0.0467      0.018     -2.550      0.011      -0.083      -0.011\n",
      "feb                -0.0344      0.022     -1.591      0.112      -0.077       0.008\n",
      "jan                -0.0625      0.021     -2.915      0.004      -0.105      -0.020\n",
      "jul                -0.0525      0.018     -2.885      0.004      -0.088      -0.017\n",
      "nov                -0.0434      0.019     -2.291      0.022      -0.081      -0.006\n",
      "sep                 0.0740      0.017      4.395      0.000       0.041       0.107\n",
      "sat                 0.0114      0.012      0.939      0.348      -0.013       0.035\n",
      "sun                 0.0173      0.012      1.446      0.149      -0.006       0.041\n",
      "tue                -0.0185      0.011     -1.614      0.107      -0.041       0.004\n",
      "light rain/snow    -0.2529      0.026     -9.580      0.000      -0.305      -0.201\n",
      "misty/cloudy       -0.0575      0.010     -5.494      0.000      -0.078      -0.037\n",
      "==============================================================================\n",
      "Omnibus:                       78.442   Durbin-Watson:                   2.023\n",
      "Prob(Omnibus):                  0.000   Jarque-Bera (JB):              183.561\n",
      "Skew:                          -0.806   Prob(JB):                     1.38e-40\n",
      "Kurtosis:                       5.458   Cond. No.                         21.7\n",
      "==============================================================================\n",
      "\n",
      "Notes:\n",
      "[1] Standard Errors assume that the covariance matrix of the errors is correctly specified.\n"
     ]
    }
   ],
   "source": [
    "# viewing summary of the model\n",
    "print(lr_2.summary())"
   ]
  },
  {
   "cell_type": "code",
   "execution_count": 67,
   "metadata": {},
   "outputs": [
    {
     "data": {
      "text/html": [
       "<div>\n",
       "<style scoped>\n",
       "    .dataframe tbody tr th:only-of-type {\n",
       "        vertical-align: middle;\n",
       "    }\n",
       "\n",
       "    .dataframe tbody tr th {\n",
       "        vertical-align: top;\n",
       "    }\n",
       "\n",
       "    .dataframe thead th {\n",
       "        text-align: right;\n",
       "    }\n",
       "</style>\n",
       "<table border=\"1\" class=\"dataframe\">\n",
       "  <thead>\n",
       "    <tr style=\"text-align: right;\">\n",
       "      <th></th>\n",
       "      <th>Features</th>\n",
       "      <th>VIF</th>\n",
       "    </tr>\n",
       "  </thead>\n",
       "  <tbody>\n",
       "    <tr>\n",
       "      <th>3</th>\n",
       "      <td>hum</td>\n",
       "      <td>31.73</td>\n",
       "    </tr>\n",
       "    <tr>\n",
       "      <th>2</th>\n",
       "      <td>temp</td>\n",
       "      <td>18.60</td>\n",
       "    </tr>\n",
       "    <tr>\n",
       "      <th>5</th>\n",
       "      <td>spring</td>\n",
       "      <td>5.48</td>\n",
       "    </tr>\n",
       "    <tr>\n",
       "      <th>4</th>\n",
       "      <td>windspeed</td>\n",
       "      <td>4.76</td>\n",
       "    </tr>\n",
       "    <tr>\n",
       "      <th>7</th>\n",
       "      <td>winter</td>\n",
       "      <td>4.09</td>\n",
       "    </tr>\n",
       "    <tr>\n",
       "      <th>6</th>\n",
       "      <td>summer</td>\n",
       "      <td>2.83</td>\n",
       "    </tr>\n",
       "    <tr>\n",
       "      <th>10</th>\n",
       "      <td>jan</td>\n",
       "      <td>2.38</td>\n",
       "    </tr>\n",
       "    <tr>\n",
       "      <th>18</th>\n",
       "      <td>misty/cloudy</td>\n",
       "      <td>2.35</td>\n",
       "    </tr>\n",
       "    <tr>\n",
       "      <th>0</th>\n",
       "      <td>yr</td>\n",
       "      <td>2.10</td>\n",
       "    </tr>\n",
       "    <tr>\n",
       "      <th>9</th>\n",
       "      <td>feb</td>\n",
       "      <td>1.92</td>\n",
       "    </tr>\n",
       "    <tr>\n",
       "      <th>12</th>\n",
       "      <td>nov</td>\n",
       "      <td>1.87</td>\n",
       "    </tr>\n",
       "    <tr>\n",
       "      <th>8</th>\n",
       "      <td>dec</td>\n",
       "      <td>1.69</td>\n",
       "    </tr>\n",
       "    <tr>\n",
       "      <th>11</th>\n",
       "      <td>jul</td>\n",
       "      <td>1.61</td>\n",
       "    </tr>\n",
       "    <tr>\n",
       "      <th>13</th>\n",
       "      <td>sep</td>\n",
       "      <td>1.41</td>\n",
       "    </tr>\n",
       "    <tr>\n",
       "      <th>16</th>\n",
       "      <td>tue</td>\n",
       "      <td>1.29</td>\n",
       "    </tr>\n",
       "    <tr>\n",
       "      <th>17</th>\n",
       "      <td>light rain/snow</td>\n",
       "      <td>1.29</td>\n",
       "    </tr>\n",
       "    <tr>\n",
       "      <th>15</th>\n",
       "      <td>sun</td>\n",
       "      <td>1.25</td>\n",
       "    </tr>\n",
       "    <tr>\n",
       "      <th>14</th>\n",
       "      <td>sat</td>\n",
       "      <td>1.23</td>\n",
       "    </tr>\n",
       "    <tr>\n",
       "      <th>1</th>\n",
       "      <td>holiday</td>\n",
       "      <td>1.06</td>\n",
       "    </tr>\n",
       "  </tbody>\n",
       "</table>\n",
       "</div>"
      ],
      "text/plain": [
       "           Features    VIF\n",
       "3               hum  31.73\n",
       "2              temp  18.60\n",
       "5            spring   5.48\n",
       "4         windspeed   4.76\n",
       "7            winter   4.09\n",
       "6            summer   2.83\n",
       "10              jan   2.38\n",
       "18     misty/cloudy   2.35\n",
       "0                yr   2.10\n",
       "9               feb   1.92\n",
       "12              nov   1.87\n",
       "8               dec   1.69\n",
       "11              jul   1.61\n",
       "13              sep   1.41\n",
       "16              tue   1.29\n",
       "17  light rain/snow   1.29\n",
       "15              sun   1.25\n",
       "14              sat   1.23\n",
       "1           holiday   1.06"
      ]
     },
     "execution_count": 67,
     "metadata": {},
     "output_type": "execute_result"
    }
   ],
   "source": [
    "# Calculating the VIFs again for the new model\n",
    "vif = pd.DataFrame()\n",
    "vif['Features'] = X.columns\n",
    "vif['VIF'] = [variance_inflation_factor(X.values, i) for i in range(X.shape[1])]\n",
    "vif['VIF'] = round(vif['VIF'], 2)\n",
    "vif = vif.sort_values(by = \"VIF\", ascending = False)\n",
    "vif"
   ]
  },
  {
   "cell_type": "code",
   "execution_count": 68,
   "metadata": {},
   "outputs": [],
   "source": [
    "# dropping variables with high p-value, that are thus insignificant\n",
    "X = X.drop(['tue','sat','feb','sun'], 1)\n",
    "\n",
    "# Building next LR model\n",
    "X_train_lm = sm.add_constant(X)\n",
    "\n",
    "lr_3 = sm.OLS(y_train, X_train_lm).fit()"
   ]
  },
  {
   "cell_type": "code",
   "execution_count": 69,
   "metadata": {},
   "outputs": [
    {
     "name": "stdout",
     "output_type": "stream",
     "text": [
      "                            OLS Regression Results                            \n",
      "==============================================================================\n",
      "Dep. Variable:                    cnt   R-squared:                       0.845\n",
      "Model:                            OLS   Adj. R-squared:                  0.840\n",
      "Method:                 Least Squares   F-statistic:                     179.4\n",
      "Date:                Mon, 05 Apr 2021   Prob (F-statistic):          8.15e-189\n",
      "Time:                        22:14:03   Log-Likelihood:                 514.19\n",
      "No. Observations:                 510   AIC:                            -996.4\n",
      "Df Residuals:                     494   BIC:                            -928.6\n",
      "Df Model:                          15                                         \n",
      "Covariance Type:            nonrobust                                         \n",
      "===================================================================================\n",
      "                      coef    std err          t      P>|t|      [0.025      0.975]\n",
      "-----------------------------------------------------------------------------------\n",
      "const               0.3197      0.036      8.859      0.000       0.249       0.391\n",
      "yr                  0.2304      0.008     28.487      0.000       0.215       0.246\n",
      "holiday            -0.0911      0.026     -3.557      0.000      -0.141      -0.041\n",
      "temp                0.4815      0.037     13.005      0.000       0.409       0.554\n",
      "hum                -0.1622      0.038     -4.291      0.000      -0.236      -0.088\n",
      "windspeed          -0.1887      0.026     -7.315      0.000      -0.239      -0.138\n",
      "spring             -0.0613      0.021     -2.881      0.004      -0.103      -0.019\n",
      "summer              0.0423      0.015      2.761      0.006       0.012       0.072\n",
      "winter              0.1019      0.018      5.656      0.000       0.067       0.137\n",
      "dec                -0.0355      0.018     -2.024      0.043      -0.070      -0.001\n",
      "jan                -0.0434      0.018     -2.393      0.017      -0.079      -0.008\n",
      "jul                -0.0553      0.018     -3.030      0.003      -0.091      -0.019\n",
      "nov                -0.0387      0.019     -2.057      0.040      -0.076      -0.002\n",
      "sep                 0.0755      0.017      4.466      0.000       0.042       0.109\n",
      "light rain/snow    -0.2465      0.026     -9.331      0.000      -0.298      -0.195\n",
      "misty/cloudy       -0.0543      0.010     -5.194      0.000      -0.075      -0.034\n",
      "==============================================================================\n",
      "Omnibus:                       66.656   Durbin-Watson:                   2.025\n",
      "Prob(Omnibus):                  0.000   Jarque-Bera (JB):              161.040\n",
      "Skew:                          -0.682   Prob(JB):                     1.07e-35\n",
      "Kurtosis:                       5.392   Cond. No.                         20.8\n",
      "==============================================================================\n",
      "\n",
      "Notes:\n",
      "[1] Standard Errors assume that the covariance matrix of the errors is correctly specified.\n"
     ]
    }
   ],
   "source": [
    "# viewing summary of the model\n",
    "print(lr_3.summary())"
   ]
  },
  {
   "cell_type": "code",
   "execution_count": 70,
   "metadata": {},
   "outputs": [
    {
     "data": {
      "text/html": [
       "<div>\n",
       "<style scoped>\n",
       "    .dataframe tbody tr th:only-of-type {\n",
       "        vertical-align: middle;\n",
       "    }\n",
       "\n",
       "    .dataframe tbody tr th {\n",
       "        vertical-align: top;\n",
       "    }\n",
       "\n",
       "    .dataframe thead th {\n",
       "        text-align: right;\n",
       "    }\n",
       "</style>\n",
       "<table border=\"1\" class=\"dataframe\">\n",
       "  <thead>\n",
       "    <tr style=\"text-align: right;\">\n",
       "      <th></th>\n",
       "      <th>Features</th>\n",
       "      <th>VIF</th>\n",
       "    </tr>\n",
       "  </thead>\n",
       "  <tbody>\n",
       "    <tr>\n",
       "      <th>3</th>\n",
       "      <td>hum</td>\n",
       "      <td>30.89</td>\n",
       "    </tr>\n",
       "    <tr>\n",
       "      <th>2</th>\n",
       "      <td>temp</td>\n",
       "      <td>17.79</td>\n",
       "    </tr>\n",
       "    <tr>\n",
       "      <th>4</th>\n",
       "      <td>windspeed</td>\n",
       "      <td>4.72</td>\n",
       "    </tr>\n",
       "    <tr>\n",
       "      <th>5</th>\n",
       "      <td>spring</td>\n",
       "      <td>4.37</td>\n",
       "    </tr>\n",
       "    <tr>\n",
       "      <th>7</th>\n",
       "      <td>winter</td>\n",
       "      <td>4.06</td>\n",
       "    </tr>\n",
       "    <tr>\n",
       "      <th>6</th>\n",
       "      <td>summer</td>\n",
       "      <td>2.82</td>\n",
       "    </tr>\n",
       "    <tr>\n",
       "      <th>14</th>\n",
       "      <td>misty/cloudy</td>\n",
       "      <td>2.32</td>\n",
       "    </tr>\n",
       "    <tr>\n",
       "      <th>0</th>\n",
       "      <td>yr</td>\n",
       "      <td>2.09</td>\n",
       "    </tr>\n",
       "    <tr>\n",
       "      <th>11</th>\n",
       "      <td>nov</td>\n",
       "      <td>1.85</td>\n",
       "    </tr>\n",
       "    <tr>\n",
       "      <th>9</th>\n",
       "      <td>jan</td>\n",
       "      <td>1.75</td>\n",
       "    </tr>\n",
       "    <tr>\n",
       "      <th>10</th>\n",
       "      <td>jul</td>\n",
       "      <td>1.59</td>\n",
       "    </tr>\n",
       "    <tr>\n",
       "      <th>8</th>\n",
       "      <td>dec</td>\n",
       "      <td>1.56</td>\n",
       "    </tr>\n",
       "    <tr>\n",
       "      <th>12</th>\n",
       "      <td>sep</td>\n",
       "      <td>1.41</td>\n",
       "    </tr>\n",
       "    <tr>\n",
       "      <th>13</th>\n",
       "      <td>light rain/snow</td>\n",
       "      <td>1.28</td>\n",
       "    </tr>\n",
       "    <tr>\n",
       "      <th>1</th>\n",
       "      <td>holiday</td>\n",
       "      <td>1.06</td>\n",
       "    </tr>\n",
       "  </tbody>\n",
       "</table>\n",
       "</div>"
      ],
      "text/plain": [
       "           Features    VIF\n",
       "3               hum  30.89\n",
       "2              temp  17.79\n",
       "4         windspeed   4.72\n",
       "5            spring   4.37\n",
       "7            winter   4.06\n",
       "6            summer   2.82\n",
       "14     misty/cloudy   2.32\n",
       "0                yr   2.09\n",
       "11              nov   1.85\n",
       "9               jan   1.75\n",
       "10              jul   1.59\n",
       "8               dec   1.56\n",
       "12              sep   1.41\n",
       "13  light rain/snow   1.28\n",
       "1           holiday   1.06"
      ]
     },
     "execution_count": 70,
     "metadata": {},
     "output_type": "execute_result"
    }
   ],
   "source": [
    "# Calculating the VIFs again for the new model\n",
    "vif = pd.DataFrame()\n",
    "vif['Features'] = X.columns\n",
    "vif['VIF'] = [variance_inflation_factor(X.values, i) for i in range(X.shape[1])]\n",
    "vif['VIF'] = round(vif['VIF'], 2)\n",
    "vif = vif.sort_values(by = \"VIF\", ascending = False)\n",
    "vif"
   ]
  },
  {
   "cell_type": "code",
   "execution_count": 71,
   "metadata": {},
   "outputs": [],
   "source": [
    "# at this point all our p-values are below the 0.05 threshhold, we can now focus on the VIF\n",
    "# dropping 'hum' because of really high VIF\n",
    "X = X.drop('hum', 1)\n",
    "\n",
    "# Building next LR model\n",
    "X_train_lm = sm.add_constant(X)\n",
    "\n",
    "lr_4 = sm.OLS(y_train, X_train_lm).fit()"
   ]
  },
  {
   "cell_type": "code",
   "execution_count": 72,
   "metadata": {},
   "outputs": [
    {
     "name": "stdout",
     "output_type": "stream",
     "text": [
      "                            OLS Regression Results                            \n",
      "==============================================================================\n",
      "Dep. Variable:                    cnt   R-squared:                       0.839\n",
      "Model:                            OLS   Adj. R-squared:                  0.835\n",
      "Method:                 Least Squares   F-statistic:                     184.5\n",
      "Date:                Mon, 05 Apr 2021   Prob (F-statistic):          4.75e-186\n",
      "Time:                        22:14:03   Log-Likelihood:                 504.85\n",
      "No. Observations:                 510   AIC:                            -979.7\n",
      "Df Residuals:                     495   BIC:                            -916.2\n",
      "Df Model:                          14                                         \n",
      "Covariance Type:            nonrobust                                         \n",
      "===================================================================================\n",
      "                      coef    std err          t      P>|t|      [0.025      0.975]\n",
      "-----------------------------------------------------------------------------------\n",
      "const               0.2450      0.032      7.618      0.000       0.182       0.308\n",
      "yr                  0.2345      0.008     28.687      0.000       0.218       0.251\n",
      "holiday            -0.0918      0.026     -3.522      0.000      -0.143      -0.041\n",
      "temp                0.4387      0.036     12.093      0.000       0.367       0.510\n",
      "windspeed          -0.1585      0.025     -6.276      0.000      -0.208      -0.109\n",
      "spring             -0.0713      0.021     -3.314      0.001      -0.113      -0.029\n",
      "summer              0.0349      0.015      2.251      0.025       0.004       0.065\n",
      "winter              0.0869      0.018      4.831      0.000       0.052       0.122\n",
      "dec                -0.0428      0.018     -2.413      0.016      -0.078      -0.008\n",
      "jan                -0.0500      0.018     -2.719      0.007      -0.086      -0.014\n",
      "jul                -0.0500      0.019     -2.703      0.007      -0.086      -0.014\n",
      "nov                -0.0395      0.019     -2.064      0.040      -0.077      -0.002\n",
      "sep                 0.0687      0.017      4.015      0.000       0.035       0.102\n",
      "light rain/snow    -0.2917      0.025    -11.840      0.000      -0.340      -0.243\n",
      "misty/cloudy       -0.0801      0.009     -9.198      0.000      -0.097      -0.063\n",
      "==============================================================================\n",
      "Omnibus:                       69.242   Durbin-Watson:                   2.024\n",
      "Prob(Omnibus):                  0.000   Jarque-Bera (JB):              171.476\n",
      "Skew:                          -0.698   Prob(JB):                     5.81e-38\n",
      "Kurtosis:                       5.473   Cond. No.                         18.9\n",
      "==============================================================================\n",
      "\n",
      "Notes:\n",
      "[1] Standard Errors assume that the covariance matrix of the errors is correctly specified.\n"
     ]
    }
   ],
   "source": [
    "# viewing summary of the model\n",
    "print(lr_4.summary())"
   ]
  },
  {
   "cell_type": "code",
   "execution_count": 73,
   "metadata": {},
   "outputs": [
    {
     "data": {
      "text/html": [
       "<div>\n",
       "<style scoped>\n",
       "    .dataframe tbody tr th:only-of-type {\n",
       "        vertical-align: middle;\n",
       "    }\n",
       "\n",
       "    .dataframe tbody tr th {\n",
       "        vertical-align: top;\n",
       "    }\n",
       "\n",
       "    .dataframe thead th {\n",
       "        text-align: right;\n",
       "    }\n",
       "</style>\n",
       "<table border=\"1\" class=\"dataframe\">\n",
       "  <thead>\n",
       "    <tr style=\"text-align: right;\">\n",
       "      <th></th>\n",
       "      <th>Features</th>\n",
       "      <th>VIF</th>\n",
       "    </tr>\n",
       "  </thead>\n",
       "  <tbody>\n",
       "    <tr>\n",
       "      <th>2</th>\n",
       "      <td>temp</td>\n",
       "      <td>5.17</td>\n",
       "    </tr>\n",
       "    <tr>\n",
       "      <th>3</th>\n",
       "      <td>windspeed</td>\n",
       "      <td>4.67</td>\n",
       "    </tr>\n",
       "    <tr>\n",
       "      <th>6</th>\n",
       "      <td>winter</td>\n",
       "      <td>2.95</td>\n",
       "    </tr>\n",
       "    <tr>\n",
       "      <th>4</th>\n",
       "      <td>spring</td>\n",
       "      <td>2.89</td>\n",
       "    </tr>\n",
       "    <tr>\n",
       "      <th>5</th>\n",
       "      <td>summer</td>\n",
       "      <td>2.24</td>\n",
       "    </tr>\n",
       "    <tr>\n",
       "      <th>0</th>\n",
       "      <td>yr</td>\n",
       "      <td>2.07</td>\n",
       "    </tr>\n",
       "    <tr>\n",
       "      <th>10</th>\n",
       "      <td>nov</td>\n",
       "      <td>1.81</td>\n",
       "    </tr>\n",
       "    <tr>\n",
       "      <th>8</th>\n",
       "      <td>jan</td>\n",
       "      <td>1.66</td>\n",
       "    </tr>\n",
       "    <tr>\n",
       "      <th>9</th>\n",
       "      <td>jul</td>\n",
       "      <td>1.59</td>\n",
       "    </tr>\n",
       "    <tr>\n",
       "      <th>13</th>\n",
       "      <td>misty/cloudy</td>\n",
       "      <td>1.57</td>\n",
       "    </tr>\n",
       "    <tr>\n",
       "      <th>7</th>\n",
       "      <td>dec</td>\n",
       "      <td>1.47</td>\n",
       "    </tr>\n",
       "    <tr>\n",
       "      <th>11</th>\n",
       "      <td>sep</td>\n",
       "      <td>1.35</td>\n",
       "    </tr>\n",
       "    <tr>\n",
       "      <th>12</th>\n",
       "      <td>light rain/snow</td>\n",
       "      <td>1.09</td>\n",
       "    </tr>\n",
       "    <tr>\n",
       "      <th>1</th>\n",
       "      <td>holiday</td>\n",
       "      <td>1.06</td>\n",
       "    </tr>\n",
       "  </tbody>\n",
       "</table>\n",
       "</div>"
      ],
      "text/plain": [
       "           Features   VIF\n",
       "2              temp  5.17\n",
       "3         windspeed  4.67\n",
       "6            winter  2.95\n",
       "4            spring  2.89\n",
       "5            summer  2.24\n",
       "0                yr  2.07\n",
       "10              nov  1.81\n",
       "8               jan  1.66\n",
       "9               jul  1.59\n",
       "13     misty/cloudy  1.57\n",
       "7               dec  1.47\n",
       "11              sep  1.35\n",
       "12  light rain/snow  1.09\n",
       "1           holiday  1.06"
      ]
     },
     "execution_count": 73,
     "metadata": {},
     "output_type": "execute_result"
    }
   ],
   "source": [
    "# Calculating the VIFs again for the new model\n",
    "vif = pd.DataFrame()\n",
    "vif['Features'] = X.columns\n",
    "vif['VIF'] = [variance_inflation_factor(X.values, i) for i in range(X.shape[1])]\n",
    "vif['VIF'] = round(vif['VIF'], 2)\n",
    "vif = vif.sort_values(by = \"VIF\", ascending = False)\n",
    "vif"
   ]
  },
  {
   "cell_type": "code",
   "execution_count": 74,
   "metadata": {},
   "outputs": [],
   "source": [
    "# the VIF of temp is slightly above the tolerable mark of 5, but since temp seems important from a business \n",
    "# perspective, and also seemed so during EDA; \n",
    "# I will keep it for now in the hope that dropping some less significant variables, one by one,\n",
    "# (for the purpose of a lighter/less complex model) might reduce the multicollinearity of temp"
   ]
  },
  {
   "cell_type": "code",
   "execution_count": 75,
   "metadata": {},
   "outputs": [],
   "source": [
    "# dropping 'nov' as it has least significance among all the variables\n",
    "# this will reduce the no. of features; thereby resulting in a lighter model\n",
    "X = X.drop('nov', 1)\n",
    "\n",
    "# Building next LR model\n",
    "X_train_lm = sm.add_constant(X)\n",
    "\n",
    "lr_5 = sm.OLS(y_train, X_train_lm).fit()"
   ]
  },
  {
   "cell_type": "code",
   "execution_count": 76,
   "metadata": {},
   "outputs": [
    {
     "name": "stdout",
     "output_type": "stream",
     "text": [
      "                            OLS Regression Results                            \n",
      "==============================================================================\n",
      "Dep. Variable:                    cnt   R-squared:                       0.838\n",
      "Model:                            OLS   Adj. R-squared:                  0.834\n",
      "Method:                 Least Squares   F-statistic:                     197.0\n",
      "Date:                Mon, 05 Apr 2021   Prob (F-statistic):          2.74e-186\n",
      "Time:                        22:14:03   Log-Likelihood:                 502.67\n",
      "No. Observations:                 510   AIC:                            -977.3\n",
      "Df Residuals:                     496   BIC:                            -918.1\n",
      "Df Model:                          13                                         \n",
      "Covariance Type:            nonrobust                                         \n",
      "===================================================================================\n",
      "                      coef    std err          t      P>|t|      [0.025      0.975]\n",
      "-----------------------------------------------------------------------------------\n",
      "const               0.2283      0.031      7.310      0.000       0.167       0.290\n",
      "yr                  0.2343      0.008     28.573      0.000       0.218       0.250\n",
      "holiday            -0.0982      0.026     -3.783      0.000      -0.149      -0.047\n",
      "temp                0.4581      0.035     13.031      0.000       0.389       0.527\n",
      "windspeed          -0.1594      0.025     -6.291      0.000      -0.209      -0.110\n",
      "spring             -0.0632      0.021     -2.979      0.003      -0.105      -0.022\n",
      "summer              0.0404      0.015      2.635      0.009       0.010       0.070\n",
      "winter              0.0774      0.017      4.438      0.000       0.043       0.112\n",
      "dec                -0.0283      0.016     -1.731      0.084      -0.060       0.004\n",
      "jan                -0.0451      0.018     -2.467      0.014      -0.081      -0.009\n",
      "jul                -0.0499      0.019     -2.686      0.007      -0.086      -0.013\n",
      "sep                 0.0742      0.017      4.373      0.000       0.041       0.108\n",
      "light rain/snow    -0.2878      0.025    -11.677      0.000      -0.336      -0.239\n",
      "misty/cloudy       -0.0793      0.009     -9.089      0.000      -0.096      -0.062\n",
      "==============================================================================\n",
      "Omnibus:                       62.961   Durbin-Watson:                   2.045\n",
      "Prob(Omnibus):                  0.000   Jarque-Bera (JB):              145.773\n",
      "Skew:                          -0.660   Prob(JB):                     2.22e-32\n",
      "Kurtosis:                       5.263   Cond. No.                         18.2\n",
      "==============================================================================\n",
      "\n",
      "Notes:\n",
      "[1] Standard Errors assume that the covariance matrix of the errors is correctly specified.\n"
     ]
    }
   ],
   "source": [
    "# viewing summary of the model\n",
    "print(lr_5.summary())"
   ]
  },
  {
   "cell_type": "code",
   "execution_count": 77,
   "metadata": {},
   "outputs": [
    {
     "data": {
      "text/html": [
       "<div>\n",
       "<style scoped>\n",
       "    .dataframe tbody tr th:only-of-type {\n",
       "        vertical-align: middle;\n",
       "    }\n",
       "\n",
       "    .dataframe tbody tr th {\n",
       "        vertical-align: top;\n",
       "    }\n",
       "\n",
       "    .dataframe thead th {\n",
       "        text-align: right;\n",
       "    }\n",
       "</style>\n",
       "<table border=\"1\" class=\"dataframe\">\n",
       "  <thead>\n",
       "    <tr style=\"text-align: right;\">\n",
       "      <th></th>\n",
       "      <th>Features</th>\n",
       "      <th>VIF</th>\n",
       "    </tr>\n",
       "  </thead>\n",
       "  <tbody>\n",
       "    <tr>\n",
       "      <th>2</th>\n",
       "      <td>temp</td>\n",
       "      <td>5.14</td>\n",
       "    </tr>\n",
       "    <tr>\n",
       "      <th>3</th>\n",
       "      <td>windspeed</td>\n",
       "      <td>4.62</td>\n",
       "    </tr>\n",
       "    <tr>\n",
       "      <th>4</th>\n",
       "      <td>spring</td>\n",
       "      <td>2.89</td>\n",
       "    </tr>\n",
       "    <tr>\n",
       "      <th>5</th>\n",
       "      <td>summer</td>\n",
       "      <td>2.24</td>\n",
       "    </tr>\n",
       "    <tr>\n",
       "      <th>0</th>\n",
       "      <td>yr</td>\n",
       "      <td>2.07</td>\n",
       "    </tr>\n",
       "    <tr>\n",
       "      <th>6</th>\n",
       "      <td>winter</td>\n",
       "      <td>2.05</td>\n",
       "    </tr>\n",
       "    <tr>\n",
       "      <th>8</th>\n",
       "      <td>jan</td>\n",
       "      <td>1.65</td>\n",
       "    </tr>\n",
       "    <tr>\n",
       "      <th>9</th>\n",
       "      <td>jul</td>\n",
       "      <td>1.59</td>\n",
       "    </tr>\n",
       "    <tr>\n",
       "      <th>12</th>\n",
       "      <td>misty/cloudy</td>\n",
       "      <td>1.57</td>\n",
       "    </tr>\n",
       "    <tr>\n",
       "      <th>10</th>\n",
       "      <td>sep</td>\n",
       "      <td>1.34</td>\n",
       "    </tr>\n",
       "    <tr>\n",
       "      <th>7</th>\n",
       "      <td>dec</td>\n",
       "      <td>1.29</td>\n",
       "    </tr>\n",
       "    <tr>\n",
       "      <th>11</th>\n",
       "      <td>light rain/snow</td>\n",
       "      <td>1.08</td>\n",
       "    </tr>\n",
       "    <tr>\n",
       "      <th>1</th>\n",
       "      <td>holiday</td>\n",
       "      <td>1.04</td>\n",
       "    </tr>\n",
       "  </tbody>\n",
       "</table>\n",
       "</div>"
      ],
      "text/plain": [
       "           Features   VIF\n",
       "2              temp  5.14\n",
       "3         windspeed  4.62\n",
       "4            spring  2.89\n",
       "5            summer  2.24\n",
       "0                yr  2.07\n",
       "6            winter  2.05\n",
       "8               jan  1.65\n",
       "9               jul  1.59\n",
       "12     misty/cloudy  1.57\n",
       "10              sep  1.34\n",
       "7               dec  1.29\n",
       "11  light rain/snow  1.08\n",
       "1           holiday  1.04"
      ]
     },
     "execution_count": 77,
     "metadata": {},
     "output_type": "execute_result"
    }
   ],
   "source": [
    "# Calculating the VIFs again for the new model in the hope that VIF if temp will reduce\n",
    "vif = pd.DataFrame()\n",
    "vif['Features'] = X.columns\n",
    "vif['VIF'] = [variance_inflation_factor(X.values, i) for i in range(X.shape[1])]\n",
    "vif['VIF'] = round(vif['VIF'], 2)\n",
    "vif = vif.sort_values(by = \"VIF\", ascending = False)\n",
    "vif"
   ]
  },
  {
   "cell_type": "code",
   "execution_count": 78,
   "metadata": {},
   "outputs": [],
   "source": [
    "# we can see that the VIF of temp has reduced from 5.17 to 5.14 - \n",
    "# this means that nov was slightly collinear with temp\n",
    "\n",
    "# Now dropping 'dec' because it is least significant variable now\n",
    "X = X.drop('dec', 1)\n",
    "\n",
    "# Building next LR model\n",
    "X_train_lm = sm.add_constant(X)\n",
    "\n",
    "lr_6 = sm.OLS(y_train, X_train_lm).fit()"
   ]
  },
  {
   "cell_type": "code",
   "execution_count": 79,
   "metadata": {},
   "outputs": [
    {
     "name": "stdout",
     "output_type": "stream",
     "text": [
      "                            OLS Regression Results                            \n",
      "==============================================================================\n",
      "Dep. Variable:                    cnt   R-squared:                       0.837\n",
      "Model:                            OLS   Adj. R-squared:                  0.833\n",
      "Method:                 Least Squares   F-statistic:                     212.3\n",
      "Date:                Mon, 05 Apr 2021   Prob (F-statistic):          8.14e-187\n",
      "Time:                        22:14:03   Log-Likelihood:                 501.13\n",
      "No. Observations:                 510   AIC:                            -976.3\n",
      "Df Residuals:                     497   BIC:                            -921.2\n",
      "Df Model:                          12                                         \n",
      "Covariance Type:            nonrobust                                         \n",
      "===================================================================================\n",
      "                      coef    std err          t      P>|t|      [0.025      0.975]\n",
      "-----------------------------------------------------------------------------------\n",
      "const               0.2154      0.030      7.088      0.000       0.156       0.275\n",
      "yr                  0.2343      0.008     28.517      0.000       0.218       0.250\n",
      "holiday            -0.0968      0.026     -3.722      0.000      -0.148      -0.046\n",
      "temp                0.4721      0.034     13.772      0.000       0.405       0.539\n",
      "windspeed          -0.1549      0.025     -6.135      0.000      -0.205      -0.105\n",
      "spring             -0.0617      0.021     -2.905      0.004      -0.103      -0.020\n",
      "summer              0.0434      0.015      2.845      0.005       0.013       0.073\n",
      "winter              0.0757      0.017      4.335      0.000       0.041       0.110\n",
      "jan                -0.0383      0.018     -2.138      0.033      -0.073      -0.003\n",
      "jul                -0.0503      0.019     -2.706      0.007      -0.087      -0.014\n",
      "sep                 0.0764      0.017      4.506      0.000       0.043       0.110\n",
      "light rain/snow    -0.2854      0.025    -11.575      0.000      -0.334      -0.237\n",
      "misty/cloudy       -0.0793      0.009     -9.067      0.000      -0.096      -0.062\n",
      "==============================================================================\n",
      "Omnibus:                       59.886   Durbin-Watson:                   2.058\n",
      "Prob(Omnibus):                  0.000   Jarque-Bera (JB):              135.021\n",
      "Skew:                          -0.638   Prob(JB):                     4.79e-30\n",
      "Kurtosis:                       5.174   Cond. No.                         17.8\n",
      "==============================================================================\n",
      "\n",
      "Notes:\n",
      "[1] Standard Errors assume that the covariance matrix of the errors is correctly specified.\n"
     ]
    }
   ],
   "source": [
    "# viewing summary of the model\n",
    "print(lr_6.summary())"
   ]
  },
  {
   "cell_type": "code",
   "execution_count": 80,
   "metadata": {},
   "outputs": [
    {
     "data": {
      "text/html": [
       "<div>\n",
       "<style scoped>\n",
       "    .dataframe tbody tr th:only-of-type {\n",
       "        vertical-align: middle;\n",
       "    }\n",
       "\n",
       "    .dataframe tbody tr th {\n",
       "        vertical-align: top;\n",
       "    }\n",
       "\n",
       "    .dataframe thead th {\n",
       "        text-align: right;\n",
       "    }\n",
       "</style>\n",
       "<table border=\"1\" class=\"dataframe\">\n",
       "  <thead>\n",
       "    <tr style=\"text-align: right;\">\n",
       "      <th></th>\n",
       "      <th>Features</th>\n",
       "      <th>VIF</th>\n",
       "    </tr>\n",
       "  </thead>\n",
       "  <tbody>\n",
       "    <tr>\n",
       "      <th>2</th>\n",
       "      <td>temp</td>\n",
       "      <td>5.13</td>\n",
       "    </tr>\n",
       "    <tr>\n",
       "      <th>3</th>\n",
       "      <td>windspeed</td>\n",
       "      <td>4.62</td>\n",
       "    </tr>\n",
       "    <tr>\n",
       "      <th>4</th>\n",
       "      <td>spring</td>\n",
       "      <td>2.75</td>\n",
       "    </tr>\n",
       "    <tr>\n",
       "      <th>5</th>\n",
       "      <td>summer</td>\n",
       "      <td>2.24</td>\n",
       "    </tr>\n",
       "    <tr>\n",
       "      <th>0</th>\n",
       "      <td>yr</td>\n",
       "      <td>2.07</td>\n",
       "    </tr>\n",
       "    <tr>\n",
       "      <th>6</th>\n",
       "      <td>winter</td>\n",
       "      <td>1.78</td>\n",
       "    </tr>\n",
       "    <tr>\n",
       "      <th>7</th>\n",
       "      <td>jan</td>\n",
       "      <td>1.61</td>\n",
       "    </tr>\n",
       "    <tr>\n",
       "      <th>8</th>\n",
       "      <td>jul</td>\n",
       "      <td>1.59</td>\n",
       "    </tr>\n",
       "    <tr>\n",
       "      <th>11</th>\n",
       "      <td>misty/cloudy</td>\n",
       "      <td>1.56</td>\n",
       "    </tr>\n",
       "    <tr>\n",
       "      <th>9</th>\n",
       "      <td>sep</td>\n",
       "      <td>1.34</td>\n",
       "    </tr>\n",
       "    <tr>\n",
       "      <th>10</th>\n",
       "      <td>light rain/snow</td>\n",
       "      <td>1.08</td>\n",
       "    </tr>\n",
       "    <tr>\n",
       "      <th>1</th>\n",
       "      <td>holiday</td>\n",
       "      <td>1.04</td>\n",
       "    </tr>\n",
       "  </tbody>\n",
       "</table>\n",
       "</div>"
      ],
      "text/plain": [
       "           Features   VIF\n",
       "2              temp  5.13\n",
       "3         windspeed  4.62\n",
       "4            spring  2.75\n",
       "5            summer  2.24\n",
       "0                yr  2.07\n",
       "6            winter  1.78\n",
       "7               jan  1.61\n",
       "8               jul  1.59\n",
       "11     misty/cloudy  1.56\n",
       "9               sep  1.34\n",
       "10  light rain/snow  1.08\n",
       "1           holiday  1.04"
      ]
     },
     "execution_count": 80,
     "metadata": {},
     "output_type": "execute_result"
    }
   ],
   "source": [
    "# Calculating the VIFs again for the new model in the hope that VIF if temp will reduce\n",
    "vif = pd.DataFrame()\n",
    "vif['Features'] = X.columns\n",
    "vif['VIF'] = [variance_inflation_factor(X.values, i) for i in range(X.shape[1])]\n",
    "vif['VIF'] = round(vif['VIF'], 2)\n",
    "vif = vif.sort_values(by = \"VIF\", ascending = False)\n",
    "vif"
   ]
  },
  {
   "cell_type": "code",
   "execution_count": 81,
   "metadata": {},
   "outputs": [],
   "source": [
    "# we can see that the VIF of temp has fallen further from 5.14 to 5.13\n",
    "\n",
    "# dropping 'jan' because now it is least significant\n",
    "X = X.drop('jan', 1)\n",
    "\n",
    "# Building next LR model\n",
    "X_train_lm = sm.add_constant(X)\n",
    "\n",
    "lr_7 = sm.OLS(y_train, X_train_lm).fit()"
   ]
  },
  {
   "cell_type": "code",
   "execution_count": 82,
   "metadata": {},
   "outputs": [
    {
     "name": "stdout",
     "output_type": "stream",
     "text": [
      "                            OLS Regression Results                            \n",
      "==============================================================================\n",
      "Dep. Variable:                    cnt   R-squared:                       0.835\n",
      "Model:                            OLS   Adj. R-squared:                  0.832\n",
      "Method:                 Least Squares   F-statistic:                     229.6\n",
      "Date:                Mon, 05 Apr 2021   Prob (F-statistic):          5.06e-187\n",
      "Time:                        22:14:03   Log-Likelihood:                 498.80\n",
      "No. Observations:                 510   AIC:                            -973.6\n",
      "Df Residuals:                     498   BIC:                            -922.8\n",
      "Df Model:                          11                                         \n",
      "Covariance Type:            nonrobust                                         \n",
      "===================================================================================\n",
      "                      coef    std err          t      P>|t|      [0.025      0.975]\n",
      "-----------------------------------------------------------------------------------\n",
      "const               0.1994      0.030      6.746      0.000       0.141       0.258\n",
      "yr                  0.2336      0.008     28.352      0.000       0.217       0.250\n",
      "holiday            -0.0975      0.026     -3.736      0.000      -0.149      -0.046\n",
      "temp                0.4910      0.033     14.770      0.000       0.426       0.556\n",
      "windspeed          -0.1479      0.025     -5.887      0.000      -0.197      -0.099\n",
      "spring             -0.0672      0.021     -3.175      0.002      -0.109      -0.026\n",
      "summer              0.0465      0.015      3.051      0.002       0.017       0.076\n",
      "winter              0.0817      0.017      4.730      0.000       0.048       0.116\n",
      "jul                -0.0521      0.019     -2.790      0.005      -0.089      -0.015\n",
      "sep                 0.0768      0.017      4.517      0.000       0.043       0.110\n",
      "light rain/snow    -0.2842      0.025    -11.487      0.000      -0.333      -0.236\n",
      "misty/cloudy       -0.0802      0.009     -9.146      0.000      -0.097      -0.063\n",
      "==============================================================================\n",
      "Omnibus:                       59.182   Durbin-Watson:                   2.051\n",
      "Prob(Omnibus):                  0.000   Jarque-Bera (JB):              134.016\n",
      "Skew:                          -0.629   Prob(JB):                     7.92e-30\n",
      "Kurtosis:                       5.173   Cond. No.                         17.3\n",
      "==============================================================================\n",
      "\n",
      "Notes:\n",
      "[1] Standard Errors assume that the covariance matrix of the errors is correctly specified.\n"
     ]
    }
   ],
   "source": [
    "# viewing the summary of the model\n",
    "print(lr_7.summary())"
   ]
  },
  {
   "cell_type": "code",
   "execution_count": 83,
   "metadata": {},
   "outputs": [
    {
     "data": {
      "text/html": [
       "<div>\n",
       "<style scoped>\n",
       "    .dataframe tbody tr th:only-of-type {\n",
       "        vertical-align: middle;\n",
       "    }\n",
       "\n",
       "    .dataframe tbody tr th {\n",
       "        vertical-align: top;\n",
       "    }\n",
       "\n",
       "    .dataframe thead th {\n",
       "        text-align: right;\n",
       "    }\n",
       "</style>\n",
       "<table border=\"1\" class=\"dataframe\">\n",
       "  <thead>\n",
       "    <tr style=\"text-align: right;\">\n",
       "      <th></th>\n",
       "      <th>Features</th>\n",
       "      <th>VIF</th>\n",
       "    </tr>\n",
       "  </thead>\n",
       "  <tbody>\n",
       "    <tr>\n",
       "      <th>2</th>\n",
       "      <td>temp</td>\n",
       "      <td>5.09</td>\n",
       "    </tr>\n",
       "    <tr>\n",
       "      <th>3</th>\n",
       "      <td>windspeed</td>\n",
       "      <td>4.60</td>\n",
       "    </tr>\n",
       "    <tr>\n",
       "      <th>5</th>\n",
       "      <td>summer</td>\n",
       "      <td>2.23</td>\n",
       "    </tr>\n",
       "    <tr>\n",
       "      <th>4</th>\n",
       "      <td>spring</td>\n",
       "      <td>2.08</td>\n",
       "    </tr>\n",
       "    <tr>\n",
       "      <th>0</th>\n",
       "      <td>yr</td>\n",
       "      <td>2.07</td>\n",
       "    </tr>\n",
       "    <tr>\n",
       "      <th>6</th>\n",
       "      <td>winter</td>\n",
       "      <td>1.78</td>\n",
       "    </tr>\n",
       "    <tr>\n",
       "      <th>7</th>\n",
       "      <td>jul</td>\n",
       "      <td>1.58</td>\n",
       "    </tr>\n",
       "    <tr>\n",
       "      <th>10</th>\n",
       "      <td>misty/cloudy</td>\n",
       "      <td>1.55</td>\n",
       "    </tr>\n",
       "    <tr>\n",
       "      <th>8</th>\n",
       "      <td>sep</td>\n",
       "      <td>1.34</td>\n",
       "    </tr>\n",
       "    <tr>\n",
       "      <th>9</th>\n",
       "      <td>light rain/snow</td>\n",
       "      <td>1.08</td>\n",
       "    </tr>\n",
       "    <tr>\n",
       "      <th>1</th>\n",
       "      <td>holiday</td>\n",
       "      <td>1.04</td>\n",
       "    </tr>\n",
       "  </tbody>\n",
       "</table>\n",
       "</div>"
      ],
      "text/plain": [
       "           Features   VIF\n",
       "2              temp  5.09\n",
       "3         windspeed  4.60\n",
       "5            summer  2.23\n",
       "4            spring  2.08\n",
       "0                yr  2.07\n",
       "6            winter  1.78\n",
       "7               jul  1.58\n",
       "10     misty/cloudy  1.55\n",
       "8               sep  1.34\n",
       "9   light rain/snow  1.08\n",
       "1           holiday  1.04"
      ]
     },
     "execution_count": 83,
     "metadata": {},
     "output_type": "execute_result"
    }
   ],
   "source": [
    "# Calculating the VIFs again for the new model in the hope that VIF if temp will reduce\n",
    "vif = pd.DataFrame()\n",
    "vif['Features'] = X.columns\n",
    "vif['VIF'] = [variance_inflation_factor(X.values, i) for i in range(X.shape[1])]\n",
    "vif['VIF'] = round(vif['VIF'], 2)\n",
    "vif = vif.sort_values(by = \"VIF\", ascending = False)\n",
    "vif"
   ]
  },
  {
   "cell_type": "code",
   "execution_count": 84,
   "metadata": {},
   "outputs": [],
   "source": [
    "# we can see that the VIF of temp has fallen further from 5.12 to 5.09\n",
    "\n",
    "# dropping 'jul' because now it is least significant\n",
    "X = X.drop('jul', 1)\n",
    "\n",
    "# Building next LR model\n",
    "X_train_lm = sm.add_constant(X)\n",
    "\n",
    "lr_8 = sm.OLS(y_train, X_train_lm).fit()"
   ]
  },
  {
   "cell_type": "code",
   "execution_count": 85,
   "metadata": {},
   "outputs": [
    {
     "name": "stdout",
     "output_type": "stream",
     "text": [
      "                            OLS Regression Results                            \n",
      "==============================================================================\n",
      "Dep. Variable:                    cnt   R-squared:                       0.833\n",
      "Model:                            OLS   Adj. R-squared:                  0.829\n",
      "Method:                 Least Squares   F-statistic:                     248.4\n",
      "Date:                Mon, 05 Apr 2021   Prob (F-statistic):          1.47e-186\n",
      "Time:                        22:14:04   Log-Likelihood:                 494.84\n",
      "No. Observations:                 510   AIC:                            -967.7\n",
      "Df Residuals:                     499   BIC:                            -921.1\n",
      "Df Model:                          10                                         \n",
      "Covariance Type:            nonrobust                                         \n",
      "===================================================================================\n",
      "                      coef    std err          t      P>|t|      [0.025      0.975]\n",
      "-----------------------------------------------------------------------------------\n",
      "const               0.1909      0.030      6.447      0.000       0.133       0.249\n",
      "yr                  0.2341      0.008     28.237      0.000       0.218       0.250\n",
      "holiday            -0.0963      0.026     -3.668      0.000      -0.148      -0.045\n",
      "temp                0.4777      0.033     14.423      0.000       0.413       0.543\n",
      "windspeed          -0.1481      0.025     -5.854      0.000      -0.198      -0.098\n",
      "spring             -0.0554      0.021     -2.654      0.008      -0.096      -0.014\n",
      "summer              0.0621      0.014      4.350      0.000       0.034       0.090\n",
      "winter              0.0945      0.017      5.630      0.000       0.062       0.127\n",
      "sep                 0.0910      0.016      5.566      0.000       0.059       0.123\n",
      "light rain/snow    -0.2850      0.025    -11.444      0.000      -0.334      -0.236\n",
      "misty/cloudy       -0.0787      0.009     -8.938      0.000      -0.096      -0.061\n",
      "==============================================================================\n",
      "Omnibus:                       63.413   Durbin-Watson:                   2.085\n",
      "Prob(Omnibus):                  0.000   Jarque-Bera (JB):              142.384\n",
      "Skew:                          -0.674   Prob(JB):                     1.21e-31\n",
      "Kurtosis:                       5.210   Cond. No.                         17.2\n",
      "==============================================================================\n",
      "\n",
      "Notes:\n",
      "[1] Standard Errors assume that the covariance matrix of the errors is correctly specified.\n"
     ]
    }
   ],
   "source": [
    "# viewing the summary of the model\n",
    "print(lr_8.summary())"
   ]
  },
  {
   "cell_type": "code",
   "execution_count": 86,
   "metadata": {},
   "outputs": [
    {
     "data": {
      "text/html": [
       "<div>\n",
       "<style scoped>\n",
       "    .dataframe tbody tr th:only-of-type {\n",
       "        vertical-align: middle;\n",
       "    }\n",
       "\n",
       "    .dataframe tbody tr th {\n",
       "        vertical-align: top;\n",
       "    }\n",
       "\n",
       "    .dataframe thead th {\n",
       "        text-align: right;\n",
       "    }\n",
       "</style>\n",
       "<table border=\"1\" class=\"dataframe\">\n",
       "  <thead>\n",
       "    <tr style=\"text-align: right;\">\n",
       "      <th></th>\n",
       "      <th>Features</th>\n",
       "      <th>VIF</th>\n",
       "    </tr>\n",
       "  </thead>\n",
       "  <tbody>\n",
       "    <tr>\n",
       "      <th>3</th>\n",
       "      <td>windspeed</td>\n",
       "      <td>4.60</td>\n",
       "    </tr>\n",
       "    <tr>\n",
       "      <th>2</th>\n",
       "      <td>temp</td>\n",
       "      <td>3.84</td>\n",
       "    </tr>\n",
       "    <tr>\n",
       "      <th>0</th>\n",
       "      <td>yr</td>\n",
       "      <td>2.07</td>\n",
       "    </tr>\n",
       "    <tr>\n",
       "      <th>4</th>\n",
       "      <td>spring</td>\n",
       "      <td>1.99</td>\n",
       "    </tr>\n",
       "    <tr>\n",
       "      <th>5</th>\n",
       "      <td>summer</td>\n",
       "      <td>1.90</td>\n",
       "    </tr>\n",
       "    <tr>\n",
       "      <th>6</th>\n",
       "      <td>winter</td>\n",
       "      <td>1.63</td>\n",
       "    </tr>\n",
       "    <tr>\n",
       "      <th>9</th>\n",
       "      <td>misty/cloudy</td>\n",
       "      <td>1.55</td>\n",
       "    </tr>\n",
       "    <tr>\n",
       "      <th>7</th>\n",
       "      <td>sep</td>\n",
       "      <td>1.23</td>\n",
       "    </tr>\n",
       "    <tr>\n",
       "      <th>8</th>\n",
       "      <td>light rain/snow</td>\n",
       "      <td>1.08</td>\n",
       "    </tr>\n",
       "    <tr>\n",
       "      <th>1</th>\n",
       "      <td>holiday</td>\n",
       "      <td>1.04</td>\n",
       "    </tr>\n",
       "  </tbody>\n",
       "</table>\n",
       "</div>"
      ],
      "text/plain": [
       "          Features   VIF\n",
       "3        windspeed  4.60\n",
       "2             temp  3.84\n",
       "0               yr  2.07\n",
       "4           spring  1.99\n",
       "5           summer  1.90\n",
       "6           winter  1.63\n",
       "9     misty/cloudy  1.55\n",
       "7              sep  1.23\n",
       "8  light rain/snow  1.08\n",
       "1          holiday  1.04"
      ]
     },
     "execution_count": 86,
     "metadata": {},
     "output_type": "execute_result"
    }
   ],
   "source": [
    "# Calculating the VIFs again for the new model in the hope that VIF if temp will reduce\n",
    "vif = pd.DataFrame()\n",
    "vif['Features'] = X.columns\n",
    "vif['VIF'] = [variance_inflation_factor(X.values, i) for i in range(X.shape[1])]\n",
    "vif['VIF'] = round(vif['VIF'], 2)\n",
    "vif = vif.sort_values(by = \"VIF\", ascending = False)\n",
    "vif"
   ]
  },
  {
   "cell_type": "code",
   "execution_count": 87,
   "metadata": {},
   "outputs": [],
   "source": [
    "# vif of all variables, including temp, has fallen below 5\n",
    "# we can now say lr_8 is the final model"
   ]
  },
  {
   "cell_type": "markdown",
   "metadata": {},
   "source": [
    "### Step 4 - Residual Analysis"
   ]
  },
  {
   "cell_type": "code",
   "execution_count": 88,
   "metadata": {},
   "outputs": [],
   "source": [
    "# creating y_train_pred so we can further calculate residuals\n",
    "y_train_pred = lr_8.predict(X_train_lm)"
   ]
  },
  {
   "cell_type": "code",
   "execution_count": 89,
   "metadata": {},
   "outputs": [
    {
     "data": {
      "image/png": "[encoded data removed]",
      "text/plain": [
       "<Figure size 432x288 with 1 Axes>"
      ]
     },
     "metadata": {
      "needs_background": "light"
     },
     "output_type": "display_data"
    }
   ],
   "source": [
    "# Ploting the histogram of the error terms to ensure that assumptions of linear regression hold true\n",
    "\n",
    "sns.distplot((y_train - y_train_pred), bins = 20)\n",
    "plt.title('Histogram of Error Terms \\n', fontsize = 14) \n",
    "plt.xlabel('Errors', fontsize = 10) \n",
    "plt.show()\n",
    "\n",
    "# we can see that the distribution of residuals resembles a normal distribution"
   ]
  },
  {
   "cell_type": "code",
   "execution_count": 90,
   "metadata": {},
   "outputs": [
    {
     "name": "stdout",
     "output_type": "stream",
     "text": [
      "Mean of Residuals:  -2.27437894226029e-15\n"
     ]
    }
   ],
   "source": [
    "residuals = y_train.values-y_train_pred\n",
    "mean_residuals = np.mean(residuals)\n",
    "print(\"Mean of Residuals: \", mean_residuals)"
   ]
  },
  {
   "cell_type": "code",
   "execution_count": 91,
   "metadata": {},
   "outputs": [],
   "source": [
    "# mean of residuals is extremely close to zero, so we can say that the assumption is honoured"
   ]
  },
  {
   "cell_type": "code",
   "execution_count": 92,
   "metadata": {},
   "outputs": [
    {
     "data": {
      "image/png": "[encoded data removed]",
      "text/plain": [
       "<Figure size 432x288 with 1 Axes>"
      ]
     },
     "metadata": {
      "needs_background": "light"
     },
     "output_type": "display_data"
    }
   ],
   "source": [
    "# Residuals vs fitted values plot for homoscedasticity check\n",
    "p = sns.scatterplot(y_train_pred,residuals)\n",
    "p = plt.title('Residuals vs fitted values plot for homoscedasticity check')"
   ]
  },
  {
   "cell_type": "code",
   "execution_count": 93,
   "metadata": {},
   "outputs": [],
   "source": [
    "# This assumption says that the residuals have equal or almost equal variance across the regression line; \n",
    "# assumption is being honoured"
   ]
  },
  {
   "cell_type": "markdown",
   "metadata": {},
   "source": [
    "### Step 5 - Making Predictions and Evaluation of the model \n",
    "\n",
    "#### Applying the scaling on the test set"
   ]
  },
  {
   "cell_type": "code",
   "execution_count": 94,
   "metadata": {},
   "outputs": [],
   "source": [
    "# on the test set we apply transform, and not fit_transform\n",
    "BB_test[num_vars] = scaler.transform(BB_test[num_vars])"
   ]
  },
  {
   "cell_type": "markdown",
   "metadata": {},
   "source": [
    "#### Dividing into X_test and y_test"
   ]
  },
  {
   "cell_type": "code",
   "execution_count": 95,
   "metadata": {},
   "outputs": [],
   "source": [
    "# dividing into 2 sets\n",
    "y_test = BB_test.pop('cnt')\n",
    "X_test = BB_test"
   ]
  },
  {
   "cell_type": "code",
   "execution_count": 96,
   "metadata": {},
   "outputs": [
    {
     "data": {
      "text/plain": [
       "Index(['const', 'yr', 'holiday', 'temp', 'windspeed', 'spring', 'summer',\n",
       "       'winter', 'sep', 'light rain/snow', 'misty/cloudy'],\n",
       "      dtype='object')"
      ]
     },
     "execution_count": 96,
     "metadata": {},
     "output_type": "execute_result"
    }
   ],
   "source": [
    "# viewing the features of the final model\n",
    "X_train_lm.columns"
   ]
  },
  {
   "cell_type": "code",
   "execution_count": 97,
   "metadata": {},
   "outputs": [],
   "source": [
    "# Now let's use our model to make predictions\n",
    "\n",
    "# Adding a constant variable \n",
    "X_test_lm = sm.add_constant(X_test)\n",
    "\n",
    "# keeping only necessary features\n",
    "X_test_lm = X_test_lm[['const', 'yr', 'holiday', 'temp', 'windspeed', 'spring', 'summer',\n",
    "       'winter', 'sep', 'light rain/snow', 'misty/cloudy']]"
   ]
  },
  {
   "cell_type": "code",
   "execution_count": 98,
   "metadata": {},
   "outputs": [],
   "source": [
    "# making predictions in test set\n",
    "y_test_pred = lr_8.predict(X_test_lm)"
   ]
  },
  {
   "cell_type": "code",
   "execution_count": 99,
   "metadata": {},
   "outputs": [
    {
     "data": {
      "text/plain": [
       "184    0.400699\n",
       "535    0.894906\n",
       "299    0.401679\n",
       "221    0.561750\n",
       "152    0.563769\n",
       "dtype: float64"
      ]
     },
     "execution_count": 99,
     "metadata": {},
     "output_type": "execute_result"
    }
   ],
   "source": [
    "# viewing the head of predictins\n",
    "y_test_pred.head()"
   ]
  },
  {
   "cell_type": "markdown",
   "metadata": {},
   "source": [
    "#### Model Evaluation"
   ]
  },
  {
   "cell_type": "code",
   "execution_count": 100,
   "metadata": {},
   "outputs": [],
   "source": [
    "# Test set:"
   ]
  },
  {
   "cell_type": "code",
   "execution_count": 101,
   "metadata": {},
   "outputs": [
    {
     "name": "stdout",
     "output_type": "stream",
     "text": [
      "R-squared value for test dataset:  0.804\n"
     ]
    }
   ],
   "source": [
    "# calculating the r-squared on TEST set\n",
    "r2_test = r2_score(y_true = y_test, y_pred = y_test_pred).round(3)\n",
    "\n",
    "print(\"R-squared value for test dataset: \", r2_test)"
   ]
  },
  {
   "cell_type": "code",
   "execution_count": 102,
   "metadata": {},
   "outputs": [
    {
     "name": "stdout",
     "output_type": "stream",
     "text": [
      "Adjusted R-squared value for test dataset:  0.793\n"
     ]
    }
   ],
   "source": [
    "# Adjusted-R2 for TEST dataset:\n",
    "n2 = X_test_lm.shape[0]\n",
    "p2 = X_test_lm.shape[1]\n",
    "r2_test = r2_score(y_test, y_test_pred)\n",
    "adjusted_r2_test = 1-(1-r2_test)*(n2-1)/(n2-p2-1)\n",
    "adjusted_r2_test = adjusted_r2_test.round(3)\n",
    "\n",
    "print(\"Adjusted R-squared value for test dataset: \", adjusted_r2_test)"
   ]
  },
  {
   "cell_type": "code",
   "execution_count": 103,
   "metadata": {},
   "outputs": [
    {
     "name": "stdout",
     "output_type": "stream",
     "text": [
      "MSE of test set :  0.009\n"
     ]
    }
   ],
   "source": [
    "# MSE of TEST set \n",
    "mse_test = mean_squared_error(y_test, y_test_pred)\n",
    "print(\"MSE of test set : \", mse_test.round(3))"
   ]
  },
  {
   "cell_type": "code",
   "execution_count": 104,
   "metadata": {},
   "outputs": [
    {
     "name": "stdout",
     "output_type": "stream",
     "text": [
      "RMSE of test set:  0.097\n"
     ]
    }
   ],
   "source": [
    "# RMSE of TEST set \n",
    "rmse_test = np.sqrt(mse_test)\n",
    "print(\"RMSE of test set: \", rmse_test.round(3))"
   ]
  },
  {
   "cell_type": "code",
   "execution_count": 105,
   "metadata": {},
   "outputs": [],
   "source": [
    "# Training set:"
   ]
  },
  {
   "cell_type": "code",
   "execution_count": 106,
   "metadata": {},
   "outputs": [
    {
     "name": "stdout",
     "output_type": "stream",
     "text": [
      "R-squared value for train dataset:  0.833\n"
     ]
    }
   ],
   "source": [
    "# to compare we can calculate the r-squared on the TRAIN set as well\n",
    "r2_train = r2_score(y_true = y_train, y_pred = y_train_pred).round(3)\n",
    "\n",
    "print(\"R-squared value for train dataset: \", r2_train)"
   ]
  },
  {
   "cell_type": "code",
   "execution_count": 107,
   "metadata": {},
   "outputs": [
    {
     "name": "stdout",
     "output_type": "stream",
     "text": [
      "Adjusted R-squared for train dataset:  0.829\n"
     ]
    }
   ],
   "source": [
    "# Adjusted-R2 for TRAIN dataset:\n",
    "n2 = X_train_lm.shape[0]\n",
    "p2 = X_train_lm.shape[1]\n",
    "r2_train = r2_score(y_train, y_train_pred)\n",
    "adjusted_r2_train = 1-(1-r2_train)*(n2-1)/(n2-p2-1)\n",
    "adjusted_r2_train = adjusted_r2_train.round(3)\n",
    "\n",
    "print(\"Adjusted R-squared for train dataset: \", adjusted_r2_train)"
   ]
  },
  {
   "cell_type": "code",
   "execution_count": 108,
   "metadata": {},
   "outputs": [
    {
     "name": "stdout",
     "output_type": "stream",
     "text": [
      "MSE of TRAIN set:  0.008\n"
     ]
    }
   ],
   "source": [
    "# MSE of TRAIN set \n",
    "mse_train = mean_squared_error(y_train, y_train_pred)\n",
    "print(\"MSE of TRAIN set: \", mse_train.round(3))"
   ]
  },
  {
   "cell_type": "code",
   "execution_count": 109,
   "metadata": {},
   "outputs": [
    {
     "name": "stdout",
     "output_type": "stream",
     "text": [
      "RMSE of TRAIN set:  0.092\n"
     ]
    }
   ],
   "source": [
    "# RMSE of TRAIN set \n",
    "rmse_train = np.sqrt(mse_train)\n",
    "print(\"RMSE of TRAIN set: \", rmse_train.round(3))"
   ]
  },
  {
   "cell_type": "code",
   "execution_count": 110,
   "metadata": {},
   "outputs": [
    {
     "name": "stdout",
     "output_type": "stream",
     "text": [
      "The no. of features in the model (not-including the constant) are:  10\n"
     ]
    }
   ],
   "source": [
    "# no. of features in the model\n",
    "\n",
    "print(\"The no. of features in the model (not-including the constant) are: \", len(X_train_lm.columns) - 1)"
   ]
  },
  {
   "cell_type": "code",
   "execution_count": 111,
   "metadata": {},
   "outputs": [
    {
     "data": {
      "image/png": "[encoded data removed]",
      "text/plain": [
       "<Figure size 432x288 with 1 Axes>"
      ]
     },
     "metadata": {
      "needs_background": "light"
     },
     "output_type": "display_data"
    }
   ],
   "source": [
    "# Plotting y_test and y_pred to understand the spread\n",
    "\n",
    "plt.scatter(y_test, y_test_pred)\n",
    "\n",
    "plt.title('y_test vs y_pred \\n', fontsize = 14)              \n",
    "plt.xlabel('y_test', fontsize = 10)                          \n",
    "plt.ylabel('y_pred', fontsize = 10)\n",
    "\n",
    "plt.show()"
   ]
  },
  {
   "cell_type": "code",
   "execution_count": 112,
   "metadata": {},
   "outputs": [
    {
     "data": {
      "text/plain": [
       "const              0.191\n",
       "yr                 0.234\n",
       "holiday           -0.096\n",
       "temp               0.478\n",
       "windspeed         -0.148\n",
       "spring            -0.055\n",
       "summer             0.062\n",
       "winter             0.094\n",
       "sep                0.091\n",
       "light rain/snow   -0.285\n",
       "misty/cloudy      -0.079\n",
       "dtype: float64"
      ]
     },
     "execution_count": 112,
     "metadata": {},
     "output_type": "execute_result"
    }
   ],
   "source": [
    "# viewing the final constant and the coefficient of each independant variable\n",
    "lr_8.params.round(3)"
   ]
  },
  {
   "cell_type": "markdown",
   "metadata": {},
   "source": [
    "### Conclusion:"
   ]
  },
  {
   "cell_type": "markdown",
   "metadata": {},
   "source": [
    "We can see that the equation of our best fitted line is:\n",
    "\n",
    "$ cnt = 0.191 + 0.478  \\times  temp - 0.285  \\times  light rain / snow + 0.234 \\times yr - 0.148 \\times windspeed \n",
    "- 0.096 \\times holiday + 0.094 \\times winter + 0.091 \\times sep - 0.079 \\times misty / cloudy + 0.062 \\times summer \n",
    "- 0.055 \\times spring $"
   ]
  },
  {
   "cell_type": "markdown",
   "metadata": {},
   "source": [
    "In multiple linear regression, size of the coefficient of each independent variable gives us the size of the effect that variable is having on our dependent variable, and the sign on the coefficient (positive or negative) gives us the direction of the effect."
   ]
  },
  {
   "cell_type": "markdown",
   "metadata": {},
   "source": [
    "The coefficient of each independent variable depicts the change in 'cnt' (dependant variable) relative to a one unit change in that particular independent variable, holding all other independent variables constant "
   ]
  },
  {
   "cell_type": "markdown",
   "metadata": {},
   "source": [
    "We can report back to BoomBikes the observations that the folowing variables affect the count/demand of bikes \n",
    "(in the order of most effect to least):\n",
    "\n",
    "    - temperature has the maximum positive effect on count, \n",
    "    count is expected to increase with unit increase in 'temp'\n",
    "\n",
    "    - light rain / snowy weather has the most negative effect on count, \n",
    "    count is expected to reduce with unit increase in 'light rain / snow'\n",
    "\n",
    "    - year has the next highest effect on count, \n",
    "    count is expected to increase with unit increase in 'yr'\n",
    "\n",
    "    - windspeed has the next highest effect on count, \n",
    "    count is expected to reduce with unit increase in 'windspeed'\n",
    "\n",
    "    - holiday the next highest effect on count, \n",
    "    count is expected to reduce with unit increase in 'holiday'\n",
    "\n",
    "    - winter season has the next highest effect on count, \n",
    "    count is expected to increase with unit increase in 'winter'\n",
    "\n",
    "    - september month has the next highest effect on count, \n",
    "    count is expected to increase with unit increase in 'sep'\n",
    "\n",
    "    - misty / cloudy weather has the next highest effect on count, \n",
    "    count is expected to reduce with unit increase in 'misty / cloudy'\n",
    "\n",
    "    - summer season has the next highest effect on count, \n",
    "    count is expected to increase with unit increase in 'summer'\n",
    "\n",
    "    - spring season has the next highest effect on count, \n",
    "    count is expected to reduce with unit increase in 'spring'"
   ]
  }
 ],
 "metadata": {
  "kernelspec": {
   "display_name": "Python 3",
   "language": "python",
   "name": "python3"
  },
  "language_info": {
   "codemirror_mode": {
    "name": "ipython",
    "version": 3
   },
   "file_extension": ".py",
   "mimetype": "text/x-python",
   "name": "python",
   "nbconvert_exporter": "python",
   "pygments_lexer": "ipython3",
   "version": "3.8.5"
  }
 },
 "nbformat": 4,
 "nbformat_minor": 4
}
